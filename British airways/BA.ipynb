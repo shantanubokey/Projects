{
 "cells": [
  {
   "cell_type": "markdown",
   "metadata": {},
   "source": [
    "# BRITISH AIRWAYS PROJECT"
   ]
  },
  {
   "cell_type": "code",
   "execution_count": 1,
   "metadata": {},
   "outputs": [],
   "source": [
    "from warnings import filterwarnings\n",
    "filterwarnings('ignore')"
   ]
  },
  {
   "cell_type": "code",
   "execution_count": 2,
   "metadata": {},
   "outputs": [],
   "source": [
    "import pandas as pd"
   ]
  },
  {
   "cell_type": "code",
   "execution_count": 3,
   "metadata": {},
   "outputs": [
    {
     "data": {
      "text/html": [
       "<div>\n",
       "<style scoped>\n",
       "    .dataframe tbody tr th:only-of-type {\n",
       "        vertical-align: middle;\n",
       "    }\n",
       "\n",
       "    .dataframe tbody tr th {\n",
       "        vertical-align: top;\n",
       "    }\n",
       "\n",
       "    .dataframe thead th {\n",
       "        text-align: right;\n",
       "    }\n",
       "</style>\n",
       "<table border=\"1\" class=\"dataframe\">\n",
       "  <thead>\n",
       "    <tr style=\"text-align: right;\">\n",
       "      <th></th>\n",
       "      <th>num_passengers</th>\n",
       "      <th>sales_channel</th>\n",
       "      <th>trip_type</th>\n",
       "      <th>purchase_lead</th>\n",
       "      <th>length_of_stay</th>\n",
       "      <th>flight_hour</th>\n",
       "      <th>flight_day</th>\n",
       "      <th>route</th>\n",
       "      <th>booking_origin</th>\n",
       "      <th>wants_extra_baggage</th>\n",
       "      <th>wants_preferred_seat</th>\n",
       "      <th>wants_in_flight_meals</th>\n",
       "      <th>flight_duration</th>\n",
       "      <th>booking_complete</th>\n",
       "    </tr>\n",
       "  </thead>\n",
       "  <tbody>\n",
       "    <tr>\n",
       "      <th>0</th>\n",
       "      <td>2</td>\n",
       "      <td>Internet</td>\n",
       "      <td>RoundTrip</td>\n",
       "      <td>262</td>\n",
       "      <td>19</td>\n",
       "      <td>7</td>\n",
       "      <td>Sat</td>\n",
       "      <td>AKLDEL</td>\n",
       "      <td>New Zealand</td>\n",
       "      <td>1</td>\n",
       "      <td>0</td>\n",
       "      <td>0</td>\n",
       "      <td>5.52</td>\n",
       "      <td>0</td>\n",
       "    </tr>\n",
       "    <tr>\n",
       "      <th>1</th>\n",
       "      <td>1</td>\n",
       "      <td>Internet</td>\n",
       "      <td>RoundTrip</td>\n",
       "      <td>112</td>\n",
       "      <td>20</td>\n",
       "      <td>3</td>\n",
       "      <td>Sat</td>\n",
       "      <td>AKLDEL</td>\n",
       "      <td>New Zealand</td>\n",
       "      <td>0</td>\n",
       "      <td>0</td>\n",
       "      <td>0</td>\n",
       "      <td>5.52</td>\n",
       "      <td>0</td>\n",
       "    </tr>\n",
       "    <tr>\n",
       "      <th>2</th>\n",
       "      <td>2</td>\n",
       "      <td>Internet</td>\n",
       "      <td>RoundTrip</td>\n",
       "      <td>243</td>\n",
       "      <td>22</td>\n",
       "      <td>17</td>\n",
       "      <td>Wed</td>\n",
       "      <td>AKLDEL</td>\n",
       "      <td>India</td>\n",
       "      <td>1</td>\n",
       "      <td>1</td>\n",
       "      <td>0</td>\n",
       "      <td>5.52</td>\n",
       "      <td>0</td>\n",
       "    </tr>\n",
       "    <tr>\n",
       "      <th>3</th>\n",
       "      <td>1</td>\n",
       "      <td>Internet</td>\n",
       "      <td>RoundTrip</td>\n",
       "      <td>96</td>\n",
       "      <td>31</td>\n",
       "      <td>4</td>\n",
       "      <td>Sat</td>\n",
       "      <td>AKLDEL</td>\n",
       "      <td>New Zealand</td>\n",
       "      <td>0</td>\n",
       "      <td>0</td>\n",
       "      <td>1</td>\n",
       "      <td>5.52</td>\n",
       "      <td>0</td>\n",
       "    </tr>\n",
       "    <tr>\n",
       "      <th>4</th>\n",
       "      <td>2</td>\n",
       "      <td>Internet</td>\n",
       "      <td>RoundTrip</td>\n",
       "      <td>68</td>\n",
       "      <td>22</td>\n",
       "      <td>15</td>\n",
       "      <td>Wed</td>\n",
       "      <td>AKLDEL</td>\n",
       "      <td>India</td>\n",
       "      <td>1</td>\n",
       "      <td>0</td>\n",
       "      <td>1</td>\n",
       "      <td>5.52</td>\n",
       "      <td>0</td>\n",
       "    </tr>\n",
       "  </tbody>\n",
       "</table>\n",
       "</div>"
      ],
      "text/plain": [
       "   num_passengers sales_channel  trip_type  purchase_lead  length_of_stay  \\\n",
       "0               2      Internet  RoundTrip            262              19   \n",
       "1               1      Internet  RoundTrip            112              20   \n",
       "2               2      Internet  RoundTrip            243              22   \n",
       "3               1      Internet  RoundTrip             96              31   \n",
       "4               2      Internet  RoundTrip             68              22   \n",
       "\n",
       "   flight_hour flight_day   route booking_origin  wants_extra_baggage  \\\n",
       "0            7        Sat  AKLDEL    New Zealand                    1   \n",
       "1            3        Sat  AKLDEL    New Zealand                    0   \n",
       "2           17        Wed  AKLDEL          India                    1   \n",
       "3            4        Sat  AKLDEL    New Zealand                    0   \n",
       "4           15        Wed  AKLDEL          India                    1   \n",
       "\n",
       "   wants_preferred_seat  wants_in_flight_meals  flight_duration  \\\n",
       "0                     0                      0             5.52   \n",
       "1                     0                      0             5.52   \n",
       "2                     1                      0             5.52   \n",
       "3                     0                      1             5.52   \n",
       "4                     0                      1             5.52   \n",
       "\n",
       "   booking_complete  \n",
       "0                 0  \n",
       "1                 0  \n",
       "2                 0  \n",
       "3                 0  \n",
       "4                 0  "
      ]
     },
     "execution_count": 3,
     "metadata": {},
     "output_type": "execute_result"
    }
   ],
   "source": [
    "df=pd.read_csv('customer_booking.csv',encoding='ISO-8859-1')\n",
    "df.head()"
   ]
  },
  {
   "cell_type": "code",
   "execution_count": 4,
   "metadata": {},
   "outputs": [
    {
     "name": "stdout",
     "output_type": "stream",
     "text": [
      "<class 'pandas.core.frame.DataFrame'>\n",
      "RangeIndex: 50000 entries, 0 to 49999\n",
      "Data columns (total 14 columns):\n",
      " #   Column                 Non-Null Count  Dtype  \n",
      "---  ------                 --------------  -----  \n",
      " 0   num_passengers         50000 non-null  int64  \n",
      " 1   sales_channel          50000 non-null  object \n",
      " 2   trip_type              50000 non-null  object \n",
      " 3   purchase_lead          50000 non-null  int64  \n",
      " 4   length_of_stay         50000 non-null  int64  \n",
      " 5   flight_hour            50000 non-null  int64  \n",
      " 6   flight_day             50000 non-null  object \n",
      " 7   route                  50000 non-null  object \n",
      " 8   booking_origin         50000 non-null  object \n",
      " 9   wants_extra_baggage    50000 non-null  int64  \n",
      " 10  wants_preferred_seat   50000 non-null  int64  \n",
      " 11  wants_in_flight_meals  50000 non-null  int64  \n",
      " 12  flight_duration        50000 non-null  float64\n",
      " 13  booking_complete       50000 non-null  int64  \n",
      "dtypes: float64(1), int64(8), object(5)\n",
      "memory usage: 5.3+ MB\n"
     ]
    }
   ],
   "source": [
    "df.info()"
   ]
  },
  {
   "cell_type": "code",
   "execution_count": 5,
   "metadata": {},
   "outputs": [
    {
     "data": {
      "text/html": [
       "<div>\n",
       "<style scoped>\n",
       "    .dataframe tbody tr th:only-of-type {\n",
       "        vertical-align: middle;\n",
       "    }\n",
       "\n",
       "    .dataframe tbody tr th {\n",
       "        vertical-align: top;\n",
       "    }\n",
       "\n",
       "    .dataframe thead th {\n",
       "        text-align: right;\n",
       "    }\n",
       "</style>\n",
       "<table border=\"1\" class=\"dataframe\">\n",
       "  <thead>\n",
       "    <tr style=\"text-align: right;\">\n",
       "      <th></th>\n",
       "      <th>num_passengers</th>\n",
       "      <th>purchase_lead</th>\n",
       "      <th>length_of_stay</th>\n",
       "      <th>flight_hour</th>\n",
       "      <th>wants_extra_baggage</th>\n",
       "      <th>wants_preferred_seat</th>\n",
       "      <th>wants_in_flight_meals</th>\n",
       "      <th>flight_duration</th>\n",
       "      <th>booking_complete</th>\n",
       "    </tr>\n",
       "  </thead>\n",
       "  <tbody>\n",
       "    <tr>\n",
       "      <th>count</th>\n",
       "      <td>50000.000000</td>\n",
       "      <td>50000.000000</td>\n",
       "      <td>50000.00000</td>\n",
       "      <td>50000.00000</td>\n",
       "      <td>50000.000000</td>\n",
       "      <td>50000.000000</td>\n",
       "      <td>50000.000000</td>\n",
       "      <td>50000.000000</td>\n",
       "      <td>50000.000000</td>\n",
       "    </tr>\n",
       "    <tr>\n",
       "      <th>mean</th>\n",
       "      <td>1.591240</td>\n",
       "      <td>84.940480</td>\n",
       "      <td>23.04456</td>\n",
       "      <td>9.06634</td>\n",
       "      <td>0.668780</td>\n",
       "      <td>0.296960</td>\n",
       "      <td>0.427140</td>\n",
       "      <td>7.277561</td>\n",
       "      <td>0.149560</td>\n",
       "    </tr>\n",
       "    <tr>\n",
       "      <th>std</th>\n",
       "      <td>1.020165</td>\n",
       "      <td>90.451378</td>\n",
       "      <td>33.88767</td>\n",
       "      <td>5.41266</td>\n",
       "      <td>0.470657</td>\n",
       "      <td>0.456923</td>\n",
       "      <td>0.494668</td>\n",
       "      <td>1.496863</td>\n",
       "      <td>0.356643</td>\n",
       "    </tr>\n",
       "    <tr>\n",
       "      <th>min</th>\n",
       "      <td>1.000000</td>\n",
       "      <td>0.000000</td>\n",
       "      <td>0.00000</td>\n",
       "      <td>0.00000</td>\n",
       "      <td>0.000000</td>\n",
       "      <td>0.000000</td>\n",
       "      <td>0.000000</td>\n",
       "      <td>4.670000</td>\n",
       "      <td>0.000000</td>\n",
       "    </tr>\n",
       "    <tr>\n",
       "      <th>25%</th>\n",
       "      <td>1.000000</td>\n",
       "      <td>21.000000</td>\n",
       "      <td>5.00000</td>\n",
       "      <td>5.00000</td>\n",
       "      <td>0.000000</td>\n",
       "      <td>0.000000</td>\n",
       "      <td>0.000000</td>\n",
       "      <td>5.620000</td>\n",
       "      <td>0.000000</td>\n",
       "    </tr>\n",
       "    <tr>\n",
       "      <th>50%</th>\n",
       "      <td>1.000000</td>\n",
       "      <td>51.000000</td>\n",
       "      <td>17.00000</td>\n",
       "      <td>9.00000</td>\n",
       "      <td>1.000000</td>\n",
       "      <td>0.000000</td>\n",
       "      <td>0.000000</td>\n",
       "      <td>7.570000</td>\n",
       "      <td>0.000000</td>\n",
       "    </tr>\n",
       "    <tr>\n",
       "      <th>75%</th>\n",
       "      <td>2.000000</td>\n",
       "      <td>115.000000</td>\n",
       "      <td>28.00000</td>\n",
       "      <td>13.00000</td>\n",
       "      <td>1.000000</td>\n",
       "      <td>1.000000</td>\n",
       "      <td>1.000000</td>\n",
       "      <td>8.830000</td>\n",
       "      <td>0.000000</td>\n",
       "    </tr>\n",
       "    <tr>\n",
       "      <th>max</th>\n",
       "      <td>9.000000</td>\n",
       "      <td>867.000000</td>\n",
       "      <td>778.00000</td>\n",
       "      <td>23.00000</td>\n",
       "      <td>1.000000</td>\n",
       "      <td>1.000000</td>\n",
       "      <td>1.000000</td>\n",
       "      <td>9.500000</td>\n",
       "      <td>1.000000</td>\n",
       "    </tr>\n",
       "  </tbody>\n",
       "</table>\n",
       "</div>"
      ],
      "text/plain": [
       "       num_passengers  purchase_lead  length_of_stay  flight_hour  \\\n",
       "count    50000.000000   50000.000000     50000.00000  50000.00000   \n",
       "mean         1.591240      84.940480        23.04456      9.06634   \n",
       "std          1.020165      90.451378        33.88767      5.41266   \n",
       "min          1.000000       0.000000         0.00000      0.00000   \n",
       "25%          1.000000      21.000000         5.00000      5.00000   \n",
       "50%          1.000000      51.000000        17.00000      9.00000   \n",
       "75%          2.000000     115.000000        28.00000     13.00000   \n",
       "max          9.000000     867.000000       778.00000     23.00000   \n",
       "\n",
       "       wants_extra_baggage  wants_preferred_seat  wants_in_flight_meals  \\\n",
       "count         50000.000000          50000.000000           50000.000000   \n",
       "mean              0.668780              0.296960               0.427140   \n",
       "std               0.470657              0.456923               0.494668   \n",
       "min               0.000000              0.000000               0.000000   \n",
       "25%               0.000000              0.000000               0.000000   \n",
       "50%               1.000000              0.000000               0.000000   \n",
       "75%               1.000000              1.000000               1.000000   \n",
       "max               1.000000              1.000000               1.000000   \n",
       "\n",
       "       flight_duration  booking_complete  \n",
       "count     50000.000000      50000.000000  \n",
       "mean          7.277561          0.149560  \n",
       "std           1.496863          0.356643  \n",
       "min           4.670000          0.000000  \n",
       "25%           5.620000          0.000000  \n",
       "50%           7.570000          0.000000  \n",
       "75%           8.830000          0.000000  \n",
       "max           9.500000          1.000000  "
      ]
     },
     "execution_count": 5,
     "metadata": {},
     "output_type": "execute_result"
    }
   ],
   "source": [
    "df.describe()"
   ]
  },
  {
   "cell_type": "code",
   "execution_count": 6,
   "metadata": {},
   "outputs": [
    {
     "data": {
      "text/plain": [
       "<Axes: xlabel='booking_complete'>"
      ]
     },
     "execution_count": 6,
     "metadata": {},
     "output_type": "execute_result"
    },
    {
     "data": {
      "image/png": "[encoded data removed]",
      "text/plain": [
       "<Figure size 640x480 with 1 Axes>"
      ]
     },
     "metadata": {},
     "output_type": "display_data"
    }
   ],
   "source": [
    "df['booking_complete'].value_counts().plot(kind='bar')"
   ]
  },
  {
   "cell_type": "code",
   "execution_count": 7,
   "metadata": {},
   "outputs": [
    {
     "data": {
      "text/plain": [
       "(50000, 14)"
      ]
     },
     "execution_count": 7,
     "metadata": {},
     "output_type": "execute_result"
    }
   ],
   "source": [
    "df.shape"
   ]
  },
  {
   "cell_type": "code",
   "execution_count": 8,
   "metadata": {},
   "outputs": [
    {
     "data": {
      "text/plain": [
       "num_passengers           0\n",
       "sales_channel            0\n",
       "trip_type                0\n",
       "purchase_lead            0\n",
       "length_of_stay           0\n",
       "flight_hour              0\n",
       "flight_day               0\n",
       "route                    0\n",
       "booking_origin           0\n",
       "wants_extra_baggage      0\n",
       "wants_preferred_seat     0\n",
       "wants_in_flight_meals    0\n",
       "flight_duration          0\n",
       "booking_complete         0\n",
       "dtype: int64"
      ]
     },
     "execution_count": 8,
     "metadata": {},
     "output_type": "execute_result"
    }
   ],
   "source": [
    "df.isna().sum()"
   ]
  },
  {
   "cell_type": "markdown",
   "metadata": {},
   "source": [
    "### SEPERATE CAT AND CON FEATURE"
   ]
  },
  {
   "cell_type": "code",
   "execution_count": 9,
   "metadata": {},
   "outputs": [],
   "source": [
    "X= df.drop(columns=['booking_complete'])\n",
    "Y= df[['booking_complete']]"
   ]
  },
  {
   "cell_type": "code",
   "execution_count": 10,
   "metadata": {},
   "outputs": [
    {
     "data": {
      "text/html": [
       "<div>\n",
       "<style scoped>\n",
       "    .dataframe tbody tr th:only-of-type {\n",
       "        vertical-align: middle;\n",
       "    }\n",
       "\n",
       "    .dataframe tbody tr th {\n",
       "        vertical-align: top;\n",
       "    }\n",
       "\n",
       "    .dataframe thead th {\n",
       "        text-align: right;\n",
       "    }\n",
       "</style>\n",
       "<table border=\"1\" class=\"dataframe\">\n",
       "  <thead>\n",
       "    <tr style=\"text-align: right;\">\n",
       "      <th></th>\n",
       "      <th>num_passengers</th>\n",
       "      <th>sales_channel</th>\n",
       "      <th>trip_type</th>\n",
       "      <th>purchase_lead</th>\n",
       "      <th>length_of_stay</th>\n",
       "      <th>flight_hour</th>\n",
       "      <th>flight_day</th>\n",
       "      <th>route</th>\n",
       "      <th>booking_origin</th>\n",
       "      <th>wants_extra_baggage</th>\n",
       "      <th>wants_preferred_seat</th>\n",
       "      <th>wants_in_flight_meals</th>\n",
       "      <th>flight_duration</th>\n",
       "    </tr>\n",
       "  </thead>\n",
       "  <tbody>\n",
       "    <tr>\n",
       "      <th>0</th>\n",
       "      <td>2</td>\n",
       "      <td>Internet</td>\n",
       "      <td>RoundTrip</td>\n",
       "      <td>262</td>\n",
       "      <td>19</td>\n",
       "      <td>7</td>\n",
       "      <td>Sat</td>\n",
       "      <td>AKLDEL</td>\n",
       "      <td>New Zealand</td>\n",
       "      <td>1</td>\n",
       "      <td>0</td>\n",
       "      <td>0</td>\n",
       "      <td>5.52</td>\n",
       "    </tr>\n",
       "    <tr>\n",
       "      <th>1</th>\n",
       "      <td>1</td>\n",
       "      <td>Internet</td>\n",
       "      <td>RoundTrip</td>\n",
       "      <td>112</td>\n",
       "      <td>20</td>\n",
       "      <td>3</td>\n",
       "      <td>Sat</td>\n",
       "      <td>AKLDEL</td>\n",
       "      <td>New Zealand</td>\n",
       "      <td>0</td>\n",
       "      <td>0</td>\n",
       "      <td>0</td>\n",
       "      <td>5.52</td>\n",
       "    </tr>\n",
       "    <tr>\n",
       "      <th>2</th>\n",
       "      <td>2</td>\n",
       "      <td>Internet</td>\n",
       "      <td>RoundTrip</td>\n",
       "      <td>243</td>\n",
       "      <td>22</td>\n",
       "      <td>17</td>\n",
       "      <td>Wed</td>\n",
       "      <td>AKLDEL</td>\n",
       "      <td>India</td>\n",
       "      <td>1</td>\n",
       "      <td>1</td>\n",
       "      <td>0</td>\n",
       "      <td>5.52</td>\n",
       "    </tr>\n",
       "    <tr>\n",
       "      <th>3</th>\n",
       "      <td>1</td>\n",
       "      <td>Internet</td>\n",
       "      <td>RoundTrip</td>\n",
       "      <td>96</td>\n",
       "      <td>31</td>\n",
       "      <td>4</td>\n",
       "      <td>Sat</td>\n",
       "      <td>AKLDEL</td>\n",
       "      <td>New Zealand</td>\n",
       "      <td>0</td>\n",
       "      <td>0</td>\n",
       "      <td>1</td>\n",
       "      <td>5.52</td>\n",
       "    </tr>\n",
       "    <tr>\n",
       "      <th>4</th>\n",
       "      <td>2</td>\n",
       "      <td>Internet</td>\n",
       "      <td>RoundTrip</td>\n",
       "      <td>68</td>\n",
       "      <td>22</td>\n",
       "      <td>15</td>\n",
       "      <td>Wed</td>\n",
       "      <td>AKLDEL</td>\n",
       "      <td>India</td>\n",
       "      <td>1</td>\n",
       "      <td>0</td>\n",
       "      <td>1</td>\n",
       "      <td>5.52</td>\n",
       "    </tr>\n",
       "  </tbody>\n",
       "</table>\n",
       "</div>"
      ],
      "text/plain": [
       "   num_passengers sales_channel  trip_type  purchase_lead  length_of_stay  \\\n",
       "0               2      Internet  RoundTrip            262              19   \n",
       "1               1      Internet  RoundTrip            112              20   \n",
       "2               2      Internet  RoundTrip            243              22   \n",
       "3               1      Internet  RoundTrip             96              31   \n",
       "4               2      Internet  RoundTrip             68              22   \n",
       "\n",
       "   flight_hour flight_day   route booking_origin  wants_extra_baggage  \\\n",
       "0            7        Sat  AKLDEL    New Zealand                    1   \n",
       "1            3        Sat  AKLDEL    New Zealand                    0   \n",
       "2           17        Wed  AKLDEL          India                    1   \n",
       "3            4        Sat  AKLDEL    New Zealand                    0   \n",
       "4           15        Wed  AKLDEL          India                    1   \n",
       "\n",
       "   wants_preferred_seat  wants_in_flight_meals  flight_duration  \n",
       "0                     0                      0             5.52  \n",
       "1                     0                      0             5.52  \n",
       "2                     1                      0             5.52  \n",
       "3                     0                      1             5.52  \n",
       "4                     0                      1             5.52  "
      ]
     },
     "execution_count": 10,
     "metadata": {},
     "output_type": "execute_result"
    }
   ],
   "source": [
    "X.head()"
   ]
  },
  {
   "cell_type": "code",
   "execution_count": 11,
   "metadata": {},
   "outputs": [
    {
     "data": {
      "text/html": [
       "<div>\n",
       "<style scoped>\n",
       "    .dataframe tbody tr th:only-of-type {\n",
       "        vertical-align: middle;\n",
       "    }\n",
       "\n",
       "    .dataframe tbody tr th {\n",
       "        vertical-align: top;\n",
       "    }\n",
       "\n",
       "    .dataframe thead th {\n",
       "        text-align: right;\n",
       "    }\n",
       "</style>\n",
       "<table border=\"1\" class=\"dataframe\">\n",
       "  <thead>\n",
       "    <tr style=\"text-align: right;\">\n",
       "      <th></th>\n",
       "      <th>booking_complete</th>\n",
       "    </tr>\n",
       "  </thead>\n",
       "  <tbody>\n",
       "    <tr>\n",
       "      <th>0</th>\n",
       "      <td>0</td>\n",
       "    </tr>\n",
       "    <tr>\n",
       "      <th>1</th>\n",
       "      <td>0</td>\n",
       "    </tr>\n",
       "    <tr>\n",
       "      <th>2</th>\n",
       "      <td>0</td>\n",
       "    </tr>\n",
       "    <tr>\n",
       "      <th>3</th>\n",
       "      <td>0</td>\n",
       "    </tr>\n",
       "    <tr>\n",
       "      <th>4</th>\n",
       "      <td>0</td>\n",
       "    </tr>\n",
       "  </tbody>\n",
       "</table>\n",
       "</div>"
      ],
      "text/plain": [
       "   booking_complete\n",
       "0                 0\n",
       "1                 0\n",
       "2                 0\n",
       "3                 0\n",
       "4                 0"
      ]
     },
     "execution_count": 11,
     "metadata": {},
     "output_type": "execute_result"
    }
   ],
   "source": [
    "Y.head()"
   ]
  },
  {
   "cell_type": "code",
   "execution_count": 12,
   "metadata": {},
   "outputs": [],
   "source": [
    "cat = list(X.columns[X.dtypes=='object'])\n",
    "con = list(X.columns[X.dtypes!='object'])"
   ]
  },
  {
   "cell_type": "code",
   "execution_count": 13,
   "metadata": {},
   "outputs": [
    {
     "data": {
      "text/plain": [
       "['sales_channel', 'trip_type', 'flight_day', 'route', 'booking_origin']"
      ]
     },
     "execution_count": 13,
     "metadata": {},
     "output_type": "execute_result"
    }
   ],
   "source": [
    "cat"
   ]
  },
  {
   "cell_type": "code",
   "execution_count": 14,
   "metadata": {},
   "outputs": [
    {
     "data": {
      "text/plain": [
       "['num_passengers',\n",
       " 'purchase_lead',\n",
       " 'length_of_stay',\n",
       " 'flight_hour',\n",
       " 'wants_extra_baggage',\n",
       " 'wants_preferred_seat',\n",
       " 'wants_in_flight_meals',\n",
       " 'flight_duration']"
      ]
     },
     "execution_count": 14,
     "metadata": {},
     "output_type": "execute_result"
    }
   ],
   "source": [
    "con"
   ]
  },
  {
   "cell_type": "markdown",
   "metadata": {},
   "source": [
    "### Creating a pipeline"
   ]
  },
  {
   "cell_type": "code",
   "execution_count": 15,
   "metadata": {},
   "outputs": [],
   "source": [
    "from sklearn.pipeline import Pipeline\n",
    "from sklearn.impute import SimpleImputer\n",
    "from sklearn.preprocessing import StandardScaler, OrdinalEncoder,OneHotEncoder\n",
    "from sklearn.compose import ColumnTransformer"
   ]
  },
  {
   "cell_type": "code",
   "execution_count": 16,
   "metadata": {},
   "outputs": [],
   "source": [
    "np1= Pipeline(steps=[('impute',SimpleImputer(strategy='mean')),\n",
    "            ('scaler',StandardScaler())])\n",
    "cp1=Pipeline(steps=[('impute',SimpleImputer(strategy='most_frequent')),\n",
    "            ('oe',OrdinalEncoder())])\n",
    "pre= ColumnTransformer([('num',np1,con),\n",
    "                        ('cat',cp1,cat)])"
   ]
  },
  {
   "cell_type": "code",
   "execution_count": 17,
   "metadata": {},
   "outputs": [
    {
     "data": {
      "text/plain": [
       "array([[ 4.00684395e-01,  1.95753005e+00, -1.19353158e-01, ...,\n",
       "         2.00000000e+00,  0.00000000e+00,  6.10000000e+01],\n",
       "       [-5.79559256e-01,  2.99163939e-01, -8.98436051e-02, ...,\n",
       "         2.00000000e+00,  0.00000000e+00,  6.10000000e+01],\n",
       "       [ 4.00684395e-01,  1.74747034e+00, -3.08244988e-02, ...,\n",
       "         6.00000000e+00,  0.00000000e+00,  3.60000000e+01],\n",
       "       ...,\n",
       "       [-5.79559256e-01, -6.73744178e-01, -5.02977349e-01, ...,\n",
       "         2.00000000e+00,  7.20000000e+02,  4.00000000e+00],\n",
       "       [-5.79559256e-01, -7.73246145e-01, -5.02977349e-01, ...,\n",
       "         1.00000000e+00,  7.20000000e+02,  4.00000000e+00],\n",
       "       [-5.79559256e-01, -7.29023048e-01, -5.02977349e-01, ...,\n",
       "         4.00000000e+00,  7.20000000e+02,  4.00000000e+00]])"
      ]
     },
     "execution_count": 17,
     "metadata": {},
     "output_type": "execute_result"
    }
   ],
   "source": [
    "X_pre = pre.fit_transform(X)\n",
    "X_pre"
   ]
  },
  {
   "cell_type": "code",
   "execution_count": 18,
   "metadata": {},
   "outputs": [
    {
     "data": {
      "text/plain": [
       "array(['num__num_passengers', 'num__purchase_lead', 'num__length_of_stay',\n",
       "       'num__flight_hour', 'num__wants_extra_baggage',\n",
       "       'num__wants_preferred_seat', 'num__wants_in_flight_meals',\n",
       "       'num__flight_duration', 'cat__sales_channel', 'cat__trip_type',\n",
       "       'cat__flight_day', 'cat__route', 'cat__booking_origin'],\n",
       "      dtype=object)"
      ]
     },
     "execution_count": 18,
     "metadata": {},
     "output_type": "execute_result"
    }
   ],
   "source": [
    "cols1=pre.get_feature_names_out()\n",
    "cols1"
   ]
  },
  {
   "cell_type": "code",
   "execution_count": 19,
   "metadata": {},
   "outputs": [
    {
     "data": {
      "text/html": [
       "<div>\n",
       "<style scoped>\n",
       "    .dataframe tbody tr th:only-of-type {\n",
       "        vertical-align: middle;\n",
       "    }\n",
       "\n",
       "    .dataframe tbody tr th {\n",
       "        vertical-align: top;\n",
       "    }\n",
       "\n",
       "    .dataframe thead th {\n",
       "        text-align: right;\n",
       "    }\n",
       "</style>\n",
       "<table border=\"1\" class=\"dataframe\">\n",
       "  <thead>\n",
       "    <tr style=\"text-align: right;\">\n",
       "      <th></th>\n",
       "      <th>num__num_passengers</th>\n",
       "      <th>num__purchase_lead</th>\n",
       "      <th>num__length_of_stay</th>\n",
       "      <th>num__flight_hour</th>\n",
       "      <th>num__wants_extra_baggage</th>\n",
       "      <th>num__wants_preferred_seat</th>\n",
       "      <th>num__wants_in_flight_meals</th>\n",
       "      <th>num__flight_duration</th>\n",
       "      <th>cat__sales_channel</th>\n",
       "      <th>cat__trip_type</th>\n",
       "      <th>cat__flight_day</th>\n",
       "      <th>cat__route</th>\n",
       "      <th>cat__booking_origin</th>\n",
       "    </tr>\n",
       "  </thead>\n",
       "  <tbody>\n",
       "    <tr>\n",
       "      <th>0</th>\n",
       "      <td>0.400684</td>\n",
       "      <td>1.957530</td>\n",
       "      <td>-0.119353</td>\n",
       "      <td>-0.381764</td>\n",
       "      <td>0.703747</td>\n",
       "      <td>-0.649919</td>\n",
       "      <td>-0.863497</td>\n",
       "      <td>-1.174175</td>\n",
       "      <td>0.0</td>\n",
       "      <td>2.0</td>\n",
       "      <td>2.0</td>\n",
       "      <td>0.0</td>\n",
       "      <td>61.0</td>\n",
       "    </tr>\n",
       "    <tr>\n",
       "      <th>1</th>\n",
       "      <td>-0.579559</td>\n",
       "      <td>0.299164</td>\n",
       "      <td>-0.089844</td>\n",
       "      <td>-1.120780</td>\n",
       "      <td>-1.420965</td>\n",
       "      <td>-0.649919</td>\n",
       "      <td>-0.863497</td>\n",
       "      <td>-1.174175</td>\n",
       "      <td>0.0</td>\n",
       "      <td>2.0</td>\n",
       "      <td>2.0</td>\n",
       "      <td>0.0</td>\n",
       "      <td>61.0</td>\n",
       "    </tr>\n",
       "    <tr>\n",
       "      <th>2</th>\n",
       "      <td>0.400684</td>\n",
       "      <td>1.747470</td>\n",
       "      <td>-0.030824</td>\n",
       "      <td>1.465775</td>\n",
       "      <td>0.703747</td>\n",
       "      <td>1.538654</td>\n",
       "      <td>-0.863497</td>\n",
       "      <td>-1.174175</td>\n",
       "      <td>0.0</td>\n",
       "      <td>2.0</td>\n",
       "      <td>6.0</td>\n",
       "      <td>0.0</td>\n",
       "      <td>36.0</td>\n",
       "    </tr>\n",
       "    <tr>\n",
       "      <th>3</th>\n",
       "      <td>-0.579559</td>\n",
       "      <td>0.122272</td>\n",
       "      <td>0.234761</td>\n",
       "      <td>-0.936026</td>\n",
       "      <td>-1.420965</td>\n",
       "      <td>-0.649919</td>\n",
       "      <td>1.158082</td>\n",
       "      <td>-1.174175</td>\n",
       "      <td>0.0</td>\n",
       "      <td>2.0</td>\n",
       "      <td>2.0</td>\n",
       "      <td>0.0</td>\n",
       "      <td>61.0</td>\n",
       "    </tr>\n",
       "    <tr>\n",
       "      <th>4</th>\n",
       "      <td>0.400684</td>\n",
       "      <td>-0.187290</td>\n",
       "      <td>-0.030824</td>\n",
       "      <td>1.096267</td>\n",
       "      <td>0.703747</td>\n",
       "      <td>-0.649919</td>\n",
       "      <td>1.158082</td>\n",
       "      <td>-1.174175</td>\n",
       "      <td>0.0</td>\n",
       "      <td>2.0</td>\n",
       "      <td>6.0</td>\n",
       "      <td>0.0</td>\n",
       "      <td>36.0</td>\n",
       "    </tr>\n",
       "  </tbody>\n",
       "</table>\n",
       "</div>"
      ],
      "text/plain": [
       "   num__num_passengers  num__purchase_lead  num__length_of_stay  \\\n",
       "0             0.400684            1.957530            -0.119353   \n",
       "1            -0.579559            0.299164            -0.089844   \n",
       "2             0.400684            1.747470            -0.030824   \n",
       "3            -0.579559            0.122272             0.234761   \n",
       "4             0.400684           -0.187290            -0.030824   \n",
       "\n",
       "   num__flight_hour  num__wants_extra_baggage  num__wants_preferred_seat  \\\n",
       "0         -0.381764                  0.703747                  -0.649919   \n",
       "1         -1.120780                 -1.420965                  -0.649919   \n",
       "2          1.465775                  0.703747                   1.538654   \n",
       "3         -0.936026                 -1.420965                  -0.649919   \n",
       "4          1.096267                  0.703747                  -0.649919   \n",
       "\n",
       "   num__wants_in_flight_meals  num__flight_duration  cat__sales_channel  \\\n",
       "0                   -0.863497             -1.174175                 0.0   \n",
       "1                   -0.863497             -1.174175                 0.0   \n",
       "2                   -0.863497             -1.174175                 0.0   \n",
       "3                    1.158082             -1.174175                 0.0   \n",
       "4                    1.158082             -1.174175                 0.0   \n",
       "\n",
       "   cat__trip_type  cat__flight_day  cat__route  cat__booking_origin  \n",
       "0             2.0              2.0         0.0                 61.0  \n",
       "1             2.0              2.0         0.0                 61.0  \n",
       "2             2.0              6.0         0.0                 36.0  \n",
       "3             2.0              2.0         0.0                 61.0  \n",
       "4             2.0              6.0         0.0                 36.0  "
      ]
     },
     "execution_count": 19,
     "metadata": {},
     "output_type": "execute_result"
    }
   ],
   "source": [
    "X_pre=pd.DataFrame(X_pre,columns=cols1)\n",
    "X_pre.head()"
   ]
  },
  {
   "cell_type": "markdown",
   "metadata": {},
   "source": [
    "### CALCULATING MUTUAL INFO SCORE"
   ]
  },
  {
   "cell_type": "code",
   "execution_count": 20,
   "metadata": {},
   "outputs": [],
   "source": [
    "from sklearn.feature_selection import mutual_info_classif"
   ]
  },
  {
   "cell_type": "code",
   "execution_count": 21,
   "metadata": {},
   "outputs": [],
   "source": [
    "mi = mutual_info_classif(X_pre,Y)"
   ]
  },
  {
   "cell_type": "code",
   "execution_count": 22,
   "metadata": {},
   "outputs": [
    {
     "data": {
      "text/plain": [
       "array([0.0043904 , 0.002504  , 0.00915974, 0.00119622, 0.00528085,\n",
       "       0.00675481, 0.00469079, 0.01577416, 0.        , 0.00688798,\n",
       "       0.0002868 , 0.05194378, 0.04514289])"
      ]
     },
     "execution_count": 22,
     "metadata": {},
     "output_type": "execute_result"
    }
   ],
   "source": [
    "mi"
   ]
  },
  {
   "cell_type": "code",
   "execution_count": 23,
   "metadata": {},
   "outputs": [],
   "source": [
    "mi=pd.Series(mi)"
   ]
  },
  {
   "cell_type": "code",
   "execution_count": 24,
   "metadata": {},
   "outputs": [
    {
     "data": {
      "text/plain": [
       "cat__route                    0.051944\n",
       "cat__booking_origin           0.045143\n",
       "num__flight_duration          0.015774\n",
       "num__length_of_stay           0.009160\n",
       "cat__trip_type                0.006888\n",
       "num__wants_preferred_seat     0.006755\n",
       "num__wants_extra_baggage      0.005281\n",
       "num__wants_in_flight_meals    0.004691\n",
       "num__num_passengers           0.004390\n",
       "num__purchase_lead            0.002504\n",
       "num__flight_hour              0.001196\n",
       "cat__flight_day               0.000287\n",
       "cat__sales_channel            0.000000\n",
       "dtype: float64"
      ]
     },
     "execution_count": 24,
     "metadata": {},
     "output_type": "execute_result"
    }
   ],
   "source": [
    "mi.index=cols1\n",
    "mi=mi.sort_values(ascending=False)\n",
    "mi"
   ]
  },
  {
   "cell_type": "code",
   "execution_count": 88,
   "metadata": {},
   "outputs": [],
   "source": [
    "import matplotlib.pyplot as plt"
   ]
  },
  {
   "cell_type": "code",
   "execution_count": 92,
   "metadata": {},
   "outputs": [
    {
     "data": {
      "text/plain": [
       "<Axes: title={'center': 'Feature dependence to booking complete'}>"
      ]
     },
     "execution_count": 92,
     "metadata": {},
     "output_type": "execute_result"
    },
    {
     "data": {
      "image/png": "[encoded data removed]",
      "text/plain": [
       "<Figure size 640x480 with 1 Axes>"
      ]
     },
     "metadata": {},
     "output_type": "display_data"
    }
   ],
   "source": [
    "mi.plot(kind='barh',title=\"Feature dependence to booking complete\",color='red')\n",
    "\n"
   ]
  },
  {
   "cell_type": "code",
   "execution_count": 26,
   "metadata": {},
   "outputs": [],
   "source": [
    "imp_cols= []"
   ]
  },
  {
   "cell_type": "code",
   "execution_count": 27,
   "metadata": {},
   "outputs": [],
   "source": [
    "for i in cols1:\n",
    "    s=i.split('__')[1]\n",
    "    imp_cols.append(s)"
   ]
  },
  {
   "cell_type": "code",
   "execution_count": 28,
   "metadata": {},
   "outputs": [
    {
     "data": {
      "text/plain": [
       "['num_passengers',\n",
       " 'purchase_lead',\n",
       " 'length_of_stay',\n",
       " 'flight_hour',\n",
       " 'wants_extra_baggage',\n",
       " 'wants_preferred_seat',\n",
       " 'wants_in_flight_meals',\n",
       " 'flight_duration',\n",
       " 'sales_channel',\n",
       " 'trip_type',\n",
       " 'flight_day',\n",
       " 'route',\n",
       " 'booking_origin']"
      ]
     },
     "execution_count": 28,
     "metadata": {},
     "output_type": "execute_result"
    }
   ],
   "source": [
    "imp_cols"
   ]
  },
  {
   "cell_type": "code",
   "execution_count": 29,
   "metadata": {},
   "outputs": [],
   "source": [
    "X_sel=X[imp_cols]"
   ]
  },
  {
   "cell_type": "code",
   "execution_count": 30,
   "metadata": {},
   "outputs": [
    {
     "data": {
      "text/html": [
       "<div>\n",
       "<style scoped>\n",
       "    .dataframe tbody tr th:only-of-type {\n",
       "        vertical-align: middle;\n",
       "    }\n",
       "\n",
       "    .dataframe tbody tr th {\n",
       "        vertical-align: top;\n",
       "    }\n",
       "\n",
       "    .dataframe thead th {\n",
       "        text-align: right;\n",
       "    }\n",
       "</style>\n",
       "<table border=\"1\" class=\"dataframe\">\n",
       "  <thead>\n",
       "    <tr style=\"text-align: right;\">\n",
       "      <th></th>\n",
       "      <th>num_passengers</th>\n",
       "      <th>purchase_lead</th>\n",
       "      <th>length_of_stay</th>\n",
       "      <th>flight_hour</th>\n",
       "      <th>wants_extra_baggage</th>\n",
       "      <th>wants_preferred_seat</th>\n",
       "      <th>wants_in_flight_meals</th>\n",
       "      <th>flight_duration</th>\n",
       "      <th>sales_channel</th>\n",
       "      <th>trip_type</th>\n",
       "      <th>flight_day</th>\n",
       "      <th>route</th>\n",
       "      <th>booking_origin</th>\n",
       "    </tr>\n",
       "  </thead>\n",
       "  <tbody>\n",
       "    <tr>\n",
       "      <th>0</th>\n",
       "      <td>2</td>\n",
       "      <td>262</td>\n",
       "      <td>19</td>\n",
       "      <td>7</td>\n",
       "      <td>1</td>\n",
       "      <td>0</td>\n",
       "      <td>0</td>\n",
       "      <td>5.52</td>\n",
       "      <td>Internet</td>\n",
       "      <td>RoundTrip</td>\n",
       "      <td>Sat</td>\n",
       "      <td>AKLDEL</td>\n",
       "      <td>New Zealand</td>\n",
       "    </tr>\n",
       "    <tr>\n",
       "      <th>1</th>\n",
       "      <td>1</td>\n",
       "      <td>112</td>\n",
       "      <td>20</td>\n",
       "      <td>3</td>\n",
       "      <td>0</td>\n",
       "      <td>0</td>\n",
       "      <td>0</td>\n",
       "      <td>5.52</td>\n",
       "      <td>Internet</td>\n",
       "      <td>RoundTrip</td>\n",
       "      <td>Sat</td>\n",
       "      <td>AKLDEL</td>\n",
       "      <td>New Zealand</td>\n",
       "    </tr>\n",
       "    <tr>\n",
       "      <th>2</th>\n",
       "      <td>2</td>\n",
       "      <td>243</td>\n",
       "      <td>22</td>\n",
       "      <td>17</td>\n",
       "      <td>1</td>\n",
       "      <td>1</td>\n",
       "      <td>0</td>\n",
       "      <td>5.52</td>\n",
       "      <td>Internet</td>\n",
       "      <td>RoundTrip</td>\n",
       "      <td>Wed</td>\n",
       "      <td>AKLDEL</td>\n",
       "      <td>India</td>\n",
       "    </tr>\n",
       "    <tr>\n",
       "      <th>3</th>\n",
       "      <td>1</td>\n",
       "      <td>96</td>\n",
       "      <td>31</td>\n",
       "      <td>4</td>\n",
       "      <td>0</td>\n",
       "      <td>0</td>\n",
       "      <td>1</td>\n",
       "      <td>5.52</td>\n",
       "      <td>Internet</td>\n",
       "      <td>RoundTrip</td>\n",
       "      <td>Sat</td>\n",
       "      <td>AKLDEL</td>\n",
       "      <td>New Zealand</td>\n",
       "    </tr>\n",
       "    <tr>\n",
       "      <th>4</th>\n",
       "      <td>2</td>\n",
       "      <td>68</td>\n",
       "      <td>22</td>\n",
       "      <td>15</td>\n",
       "      <td>1</td>\n",
       "      <td>0</td>\n",
       "      <td>1</td>\n",
       "      <td>5.52</td>\n",
       "      <td>Internet</td>\n",
       "      <td>RoundTrip</td>\n",
       "      <td>Wed</td>\n",
       "      <td>AKLDEL</td>\n",
       "      <td>India</td>\n",
       "    </tr>\n",
       "    <tr>\n",
       "      <th>...</th>\n",
       "      <td>...</td>\n",
       "      <td>...</td>\n",
       "      <td>...</td>\n",
       "      <td>...</td>\n",
       "      <td>...</td>\n",
       "      <td>...</td>\n",
       "      <td>...</td>\n",
       "      <td>...</td>\n",
       "      <td>...</td>\n",
       "      <td>...</td>\n",
       "      <td>...</td>\n",
       "      <td>...</td>\n",
       "      <td>...</td>\n",
       "    </tr>\n",
       "    <tr>\n",
       "      <th>49995</th>\n",
       "      <td>2</td>\n",
       "      <td>27</td>\n",
       "      <td>6</td>\n",
       "      <td>9</td>\n",
       "      <td>1</td>\n",
       "      <td>0</td>\n",
       "      <td>1</td>\n",
       "      <td>5.62</td>\n",
       "      <td>Internet</td>\n",
       "      <td>RoundTrip</td>\n",
       "      <td>Sat</td>\n",
       "      <td>PERPNH</td>\n",
       "      <td>Australia</td>\n",
       "    </tr>\n",
       "    <tr>\n",
       "      <th>49996</th>\n",
       "      <td>1</td>\n",
       "      <td>111</td>\n",
       "      <td>6</td>\n",
       "      <td>4</td>\n",
       "      <td>0</td>\n",
       "      <td>0</td>\n",
       "      <td>0</td>\n",
       "      <td>5.62</td>\n",
       "      <td>Internet</td>\n",
       "      <td>RoundTrip</td>\n",
       "      <td>Sun</td>\n",
       "      <td>PERPNH</td>\n",
       "      <td>Australia</td>\n",
       "    </tr>\n",
       "    <tr>\n",
       "      <th>49997</th>\n",
       "      <td>1</td>\n",
       "      <td>24</td>\n",
       "      <td>6</td>\n",
       "      <td>22</td>\n",
       "      <td>0</td>\n",
       "      <td>0</td>\n",
       "      <td>1</td>\n",
       "      <td>5.62</td>\n",
       "      <td>Internet</td>\n",
       "      <td>RoundTrip</td>\n",
       "      <td>Sat</td>\n",
       "      <td>PERPNH</td>\n",
       "      <td>Australia</td>\n",
       "    </tr>\n",
       "    <tr>\n",
       "      <th>49998</th>\n",
       "      <td>1</td>\n",
       "      <td>15</td>\n",
       "      <td>6</td>\n",
       "      <td>11</td>\n",
       "      <td>1</td>\n",
       "      <td>0</td>\n",
       "      <td>1</td>\n",
       "      <td>5.62</td>\n",
       "      <td>Internet</td>\n",
       "      <td>RoundTrip</td>\n",
       "      <td>Mon</td>\n",
       "      <td>PERPNH</td>\n",
       "      <td>Australia</td>\n",
       "    </tr>\n",
       "    <tr>\n",
       "      <th>49999</th>\n",
       "      <td>1</td>\n",
       "      <td>19</td>\n",
       "      <td>6</td>\n",
       "      <td>10</td>\n",
       "      <td>0</td>\n",
       "      <td>1</td>\n",
       "      <td>0</td>\n",
       "      <td>5.62</td>\n",
       "      <td>Internet</td>\n",
       "      <td>RoundTrip</td>\n",
       "      <td>Thu</td>\n",
       "      <td>PERPNH</td>\n",
       "      <td>Australia</td>\n",
       "    </tr>\n",
       "  </tbody>\n",
       "</table>\n",
       "<p>50000 rows × 13 columns</p>\n",
       "</div>"
      ],
      "text/plain": [
       "       num_passengers  purchase_lead  length_of_stay  flight_hour  \\\n",
       "0                   2            262              19            7   \n",
       "1                   1            112              20            3   \n",
       "2                   2            243              22           17   \n",
       "3                   1             96              31            4   \n",
       "4                   2             68              22           15   \n",
       "...               ...            ...             ...          ...   \n",
       "49995               2             27               6            9   \n",
       "49996               1            111               6            4   \n",
       "49997               1             24               6           22   \n",
       "49998               1             15               6           11   \n",
       "49999               1             19               6           10   \n",
       "\n",
       "       wants_extra_baggage  wants_preferred_seat  wants_in_flight_meals  \\\n",
       "0                        1                     0                      0   \n",
       "1                        0                     0                      0   \n",
       "2                        1                     1                      0   \n",
       "3                        0                     0                      1   \n",
       "4                        1                     0                      1   \n",
       "...                    ...                   ...                    ...   \n",
       "49995                    1                     0                      1   \n",
       "49996                    0                     0                      0   \n",
       "49997                    0                     0                      1   \n",
       "49998                    1                     0                      1   \n",
       "49999                    0                     1                      0   \n",
       "\n",
       "       flight_duration sales_channel  trip_type flight_day   route  \\\n",
       "0                 5.52      Internet  RoundTrip        Sat  AKLDEL   \n",
       "1                 5.52      Internet  RoundTrip        Sat  AKLDEL   \n",
       "2                 5.52      Internet  RoundTrip        Wed  AKLDEL   \n",
       "3                 5.52      Internet  RoundTrip        Sat  AKLDEL   \n",
       "4                 5.52      Internet  RoundTrip        Wed  AKLDEL   \n",
       "...                ...           ...        ...        ...     ...   \n",
       "49995             5.62      Internet  RoundTrip        Sat  PERPNH   \n",
       "49996             5.62      Internet  RoundTrip        Sun  PERPNH   \n",
       "49997             5.62      Internet  RoundTrip        Sat  PERPNH   \n",
       "49998             5.62      Internet  RoundTrip        Mon  PERPNH   \n",
       "49999             5.62      Internet  RoundTrip        Thu  PERPNH   \n",
       "\n",
       "      booking_origin  \n",
       "0        New Zealand  \n",
       "1        New Zealand  \n",
       "2              India  \n",
       "3        New Zealand  \n",
       "4              India  \n",
       "...              ...  \n",
       "49995      Australia  \n",
       "49996      Australia  \n",
       "49997      Australia  \n",
       "49998      Australia  \n",
       "49999      Australia  \n",
       "\n",
       "[50000 rows x 13 columns]"
      ]
     },
     "execution_count": 30,
     "metadata": {},
     "output_type": "execute_result"
    }
   ],
   "source": [
    "X_sel"
   ]
  },
  {
   "cell_type": "markdown",
   "metadata": {},
   "source": [
    "### FINAL PIPELINE"
   ]
  },
  {
   "cell_type": "code",
   "execution_count": 31,
   "metadata": {},
   "outputs": [],
   "source": [
    "con1=list(X_sel.columns[X_sel.dtypes!='object'])\n",
    "cat2=list(X_sel.columns[X_sel.dtypes=='object'])"
   ]
  },
  {
   "cell_type": "code",
   "execution_count": 32,
   "metadata": {},
   "outputs": [],
   "source": [
    "np2= Pipeline(steps=[('impute',SimpleImputer(strategy='mean')),\n",
    "            ('scaler',StandardScaler())])\n",
    "cp2=Pipeline(steps=[('impute',SimpleImputer(strategy='most_frequent')),\n",
    "            ('oe',OneHotEncoder(handle_unknown='ignore'))])\n",
    "pre2= ColumnTransformer([('num',np2,con1),\n",
    "                        ('cat',cp2,cat2)])"
   ]
  },
  {
   "cell_type": "code",
   "execution_count": 33,
   "metadata": {},
   "outputs": [],
   "source": [
    "X_sel_pre=pre2.fit_transform(X_sel).toarray()"
   ]
  },
  {
   "cell_type": "code",
   "execution_count": 34,
   "metadata": {},
   "outputs": [],
   "source": [
    "cols2= pre2.get_feature_names_out()"
   ]
  },
  {
   "cell_type": "code",
   "execution_count": 35,
   "metadata": {},
   "outputs": [
    {
     "data": {
      "text/plain": [
       "array(['num__num_passengers', 'num__purchase_lead', 'num__length_of_stay',\n",
       "       'num__flight_hour', 'num__wants_extra_baggage',\n",
       "       'num__wants_preferred_seat', 'num__wants_in_flight_meals',\n",
       "       'num__flight_duration', 'cat__sales_channel_Internet',\n",
       "       'cat__sales_channel_Mobile', 'cat__trip_type_CircleTrip',\n",
       "       'cat__trip_type_OneWay', 'cat__trip_type_RoundTrip',\n",
       "       'cat__flight_day_Fri', 'cat__flight_day_Mon',\n",
       "       'cat__flight_day_Sat', 'cat__flight_day_Sun',\n",
       "       'cat__flight_day_Thu', 'cat__flight_day_Tue',\n",
       "       'cat__flight_day_Wed', 'cat__route_AKLDEL', 'cat__route_AKLHGH',\n",
       "       'cat__route_AKLHND', 'cat__route_AKLICN', 'cat__route_AKLKIX',\n",
       "       'cat__route_AKLKTM', 'cat__route_AKLKUL', 'cat__route_AKLMRU',\n",
       "       'cat__route_AKLPEK', 'cat__route_AKLPVG', 'cat__route_AKLTPE',\n",
       "       'cat__route_AORICN', 'cat__route_AORKIX', 'cat__route_AORKTM',\n",
       "       'cat__route_AORMEL', 'cat__route_AORPER', 'cat__route_AORPUS',\n",
       "       'cat__route_BBIMEL', 'cat__route_BBIOOL', 'cat__route_BBIPER',\n",
       "       'cat__route_BBISYD', 'cat__route_BDOCTS', 'cat__route_BDOCTU',\n",
       "       'cat__route_BDOHGH', 'cat__route_BDOICN', 'cat__route_BDOIKA',\n",
       "       'cat__route_BDOKIX', 'cat__route_BDOMEL', 'cat__route_BDOOOL',\n",
       "       'cat__route_BDOPEK', 'cat__route_BDOPER', 'cat__route_BDOPUS',\n",
       "       'cat__route_BDOPVG', 'cat__route_BDOSYD', 'cat__route_BDOTPE',\n",
       "       'cat__route_BDOWUH', 'cat__route_BDOXIY', 'cat__route_BKICKG',\n",
       "       'cat__route_BKICTS', 'cat__route_BKICTU', 'cat__route_BKIDEL',\n",
       "       'cat__route_BKIHND', 'cat__route_BKIICN', 'cat__route_BKIKIX',\n",
       "       'cat__route_BKIKTM', 'cat__route_BKIMEL', 'cat__route_BKIMRU',\n",
       "       'cat__route_BKIOOL', 'cat__route_BKIPEK', 'cat__route_BKIPER',\n",
       "       'cat__route_BKIPUS', 'cat__route_BKIPVG', 'cat__route_BKISYD',\n",
       "       'cat__route_BKIXIY', 'cat__route_BLRICN', 'cat__route_BLRMEL',\n",
       "       'cat__route_BLRPER', 'cat__route_BLRSYD', 'cat__route_BOMMEL',\n",
       "       'cat__route_BOMOOL', 'cat__route_BOMPER', 'cat__route_BOMSYD',\n",
       "       'cat__route_BTJJED', 'cat__route_BTUCKG', 'cat__route_BTUICN',\n",
       "       'cat__route_BTUPER', 'cat__route_BTUSYD', 'cat__route_BTUWUH',\n",
       "       'cat__route_BWNCKG', 'cat__route_BWNDEL', 'cat__route_BWNHGH',\n",
       "       'cat__route_BWNIKA', 'cat__route_BWNKTM', 'cat__route_BWNMEL',\n",
       "       'cat__route_BWNOOL', 'cat__route_BWNPER', 'cat__route_BWNSYD',\n",
       "       'cat__route_BWNTPE', 'cat__route_BWNWUH', 'cat__route_CANDEL',\n",
       "       'cat__route_CANIKA', 'cat__route_CANMEL', 'cat__route_CANMRU',\n",
       "       'cat__route_CANOOL', 'cat__route_CANPER', 'cat__route_CANSYD',\n",
       "       'cat__route_CCUMEL', 'cat__route_CCUMRU', 'cat__route_CCUOOL',\n",
       "       'cat__route_CCUPER', 'cat__route_CCUSYD', 'cat__route_CCUTPE',\n",
       "       'cat__route_CEBMEL', 'cat__route_CEBOOL', 'cat__route_CEBPER',\n",
       "       'cat__route_CEBSYD', 'cat__route_CGKCKG', 'cat__route_CGKCTS',\n",
       "       'cat__route_CGKCTU', 'cat__route_CGKDEL', 'cat__route_CGKHGH',\n",
       "       'cat__route_CGKHND', 'cat__route_CGKICN', 'cat__route_CGKIKA',\n",
       "       'cat__route_CGKJED', 'cat__route_CGKKIX', 'cat__route_CGKKTM',\n",
       "       'cat__route_CGKMEL', 'cat__route_CGKMRU', 'cat__route_CGKOOL',\n",
       "       'cat__route_CGKPEK', 'cat__route_CGKPER', 'cat__route_CGKPUS',\n",
       "       'cat__route_CGKPVG', 'cat__route_CGKSYD', 'cat__route_CGKTPE',\n",
       "       'cat__route_CGKWUH', 'cat__route_CGKXIY', 'cat__route_CKGCOK',\n",
       "       'cat__route_CKGDPS', 'cat__route_CKGHKT', 'cat__route_CKGJHB',\n",
       "       'cat__route_CKGKCH', 'cat__route_CKGKNO', 'cat__route_CKGLGK',\n",
       "       'cat__route_CKGLOP', 'cat__route_CKGMAA', 'cat__route_CKGMEL',\n",
       "       'cat__route_CKGMRU', 'cat__route_CKGMYY', 'cat__route_CKGOOL',\n",
       "       'cat__route_CKGPEN', 'cat__route_CKGPER', 'cat__route_CKGPNH',\n",
       "       'cat__route_CKGSBW', 'cat__route_CKGSGN', 'cat__route_CKGSIN',\n",
       "       'cat__route_CKGSUB', 'cat__route_CKGSYD', 'cat__route_CKGTGG',\n",
       "       'cat__route_CKGTRZ', 'cat__route_CKGTWU', 'cat__route_CMBCTS',\n",
       "       'cat__route_CMBCTU', 'cat__route_CMBHGH', 'cat__route_CMBHND',\n",
       "       'cat__route_CMBICN', 'cat__route_CMBKIX', 'cat__route_CMBMEL',\n",
       "       'cat__route_CMBMRU', 'cat__route_CMBOOL', 'cat__route_CMBPEK',\n",
       "       'cat__route_CMBPER', 'cat__route_CMBPVG', 'cat__route_CMBSYD',\n",
       "       'cat__route_CMBWUH', 'cat__route_CNXDEL', 'cat__route_CNXHND',\n",
       "       'cat__route_CNXICN', 'cat__route_CNXKIX', 'cat__route_CNXMEL',\n",
       "       'cat__route_CNXOOL', 'cat__route_CNXPEK', 'cat__route_CNXPER',\n",
       "       'cat__route_CNXPUS', 'cat__route_CNXPVG', 'cat__route_CNXSYD',\n",
       "       'cat__route_CNXTPE', 'cat__route_CNXXIY', 'cat__route_COKCTS',\n",
       "       'cat__route_COKCTU', 'cat__route_COKHGH', 'cat__route_COKICN',\n",
       "       'cat__route_COKKIX', 'cat__route_COKMEL', 'cat__route_COKOOL',\n",
       "       'cat__route_COKPER', 'cat__route_COKPUS', 'cat__route_COKSYD',\n",
       "       'cat__route_COKTPE', 'cat__route_COKWUH', 'cat__route_CRKMEL',\n",
       "       'cat__route_CRKOOL', 'cat__route_CRKSYD', 'cat__route_CSXMRU',\n",
       "       'cat__route_CSXPER', 'cat__route_CSXSYD', 'cat__route_CTSDMK',\n",
       "       'cat__route_CTSDPS', 'cat__route_CTSHKT', 'cat__route_CTSJHB',\n",
       "       'cat__route_CTSJOG', 'cat__route_CTSKBR', 'cat__route_CTSKCH',\n",
       "       'cat__route_CTSKNO', 'cat__route_CTSLGK', 'cat__route_CTSMEL',\n",
       "       'cat__route_CTSMYY', 'cat__route_CTSOOL', 'cat__route_CTSPEN',\n",
       "       'cat__route_CTSPER', 'cat__route_CTSSBW', 'cat__route_CTSSGN',\n",
       "       'cat__route_CTSSIN', 'cat__route_CTSSUB', 'cat__route_CTSSYD',\n",
       "       'cat__route_CTUDMK', 'cat__route_CTUDPS', 'cat__route_CTUHKT',\n",
       "       'cat__route_CTUIKA', 'cat__route_CTUJHB', 'cat__route_CTUKBR',\n",
       "       'cat__route_CTUKBV', 'cat__route_CTUKCH', 'cat__route_CTUKNO',\n",
       "       'cat__route_CTULGK', 'cat__route_CTULOP', 'cat__route_CTUMAA',\n",
       "       'cat__route_CTUMEL', 'cat__route_CTUMLE', 'cat__route_CTUMRU',\n",
       "       'cat__route_CTUMYY', 'cat__route_CTUOOL', 'cat__route_CTUPEN',\n",
       "       'cat__route_CTUPER', 'cat__route_CTUREP', 'cat__route_CTUSBW',\n",
       "       'cat__route_CTUSGN', 'cat__route_CTUSIN', 'cat__route_CTUSRG',\n",
       "       'cat__route_CTUSUB', 'cat__route_CTUSYD', 'cat__route_CTUTGG',\n",
       "       'cat__route_CTUTRZ', 'cat__route_CTUTWU', 'cat__route_CTUURT',\n",
       "       'cat__route_CXRMEL', 'cat__route_DACHGH', 'cat__route_DACHND',\n",
       "       'cat__route_DACICN', 'cat__route_DACKIX', 'cat__route_DACMEL',\n",
       "       'cat__route_DACMRU', 'cat__route_DACOOL', 'cat__route_DACPEK',\n",
       "       'cat__route_DACPER', 'cat__route_DACPUS', 'cat__route_DACSYD',\n",
       "       'cat__route_DACTPE', 'cat__route_DADMEL', 'cat__route_DADOOL',\n",
       "       'cat__route_DADSYD', 'cat__route_DELDMK', 'cat__route_DELDPS',\n",
       "       'cat__route_DELHKG', 'cat__route_DELHKT', 'cat__route_DELHND',\n",
       "       'cat__route_DELJHB', 'cat__route_DELJOG', 'cat__route_DELKBR',\n",
       "       'cat__route_DELKBV', 'cat__route_DELKCH', 'cat__route_DELKIX',\n",
       "       'cat__route_DELKNO', 'cat__route_DELLGK', 'cat__route_DELMEL',\n",
       "       'cat__route_DELMFM', 'cat__route_DELMNL', 'cat__route_DELMRU',\n",
       "       'cat__route_DELMYY', 'cat__route_DELOOL', 'cat__route_DELPEN',\n",
       "       'cat__route_DELPER', 'cat__route_DELPNH', 'cat__route_DELREP',\n",
       "       'cat__route_DELRGN', 'cat__route_DELSBW', 'cat__route_DELSGN',\n",
       "       'cat__route_DELSIN', 'cat__route_DELSUB', 'cat__route_DELSYD',\n",
       "       'cat__route_DELSZX', 'cat__route_DELURT', 'cat__route_DMKHGH',\n",
       "       'cat__route_DMKHND', 'cat__route_DMKICN', 'cat__route_DMKIKA',\n",
       "       'cat__route_DMKKIX', 'cat__route_DMKKTM', 'cat__route_DMKMEL',\n",
       "       'cat__route_DMKMRU', 'cat__route_DMKOOL', 'cat__route_DMKPEK',\n",
       "       'cat__route_DMKPER', 'cat__route_DMKPUS', 'cat__route_DMKPVG',\n",
       "       'cat__route_DMKSYD', 'cat__route_DMKTPE', 'cat__route_DPSHGH',\n",
       "       'cat__route_DPSHND', 'cat__route_DPSICN', 'cat__route_DPSIKA',\n",
       "       'cat__route_DPSKIX', 'cat__route_DPSKTM', 'cat__route_DPSMEL',\n",
       "       'cat__route_DPSMRU', 'cat__route_DPSOOL', 'cat__route_DPSPEK',\n",
       "       'cat__route_DPSPUS', 'cat__route_DPSPVG', 'cat__route_DPSSYD',\n",
       "       'cat__route_DPSTPE', 'cat__route_DPSWUH', 'cat__route_DPSXIY',\n",
       "       'cat__route_GOIKUL', 'cat__route_GOIMEL', 'cat__route_GOIOOL',\n",
       "       'cat__route_GOIPER', 'cat__route_GOISYD', 'cat__route_HANKTM',\n",
       "       'cat__route_HANMEL', 'cat__route_HANOOL', 'cat__route_HANPER',\n",
       "       'cat__route_HANSYD', 'cat__route_HDYHGH', 'cat__route_HDYKIX',\n",
       "       'cat__route_HDYKTM', 'cat__route_HDYMEL', 'cat__route_HDYOOL',\n",
       "       'cat__route_HDYPEK', 'cat__route_HDYPER', 'cat__route_HDYPVG',\n",
       "       'cat__route_HDYSYD', 'cat__route_HDYTPE', 'cat__route_HDYXIY',\n",
       "       'cat__route_HGHHKT', 'cat__route_HGHJHB', 'cat__route_HGHJOG',\n",
       "       'cat__route_HGHKBR', 'cat__route_HGHKBV', 'cat__route_HGHKCH',\n",
       "       'cat__route_HGHKNO', 'cat__route_HGHLGK', 'cat__route_HGHLOP',\n",
       "       'cat__route_HGHMAA', 'cat__route_HGHMEL', 'cat__route_HGHMRU',\n",
       "       'cat__route_HGHMYY', 'cat__route_HGHOOL', 'cat__route_HGHPEN',\n",
       "       'cat__route_HGHPER', 'cat__route_HGHSBW', 'cat__route_HGHSGN',\n",
       "       'cat__route_HGHSIN', 'cat__route_HGHSUB', 'cat__route_HGHSYD',\n",
       "       'cat__route_HGHTGG', 'cat__route_HGHTRZ', 'cat__route_HGHTWU',\n",
       "       'cat__route_HKGIKA', 'cat__route_HKGJED', 'cat__route_HKGKTM',\n",
       "       'cat__route_HKGMEL', 'cat__route_HKGMRU', 'cat__route_HKGOOL',\n",
       "       'cat__route_HKGPER', 'cat__route_HKGSYD', 'cat__route_HKTHND',\n",
       "       'cat__route_HKTICN', 'cat__route_HKTIKA', 'cat__route_HKTJED',\n",
       "       'cat__route_HKTKIX', 'cat__route_HKTKTM', 'cat__route_HKTMEL',\n",
       "       'cat__route_HKTMRU', 'cat__route_HKTOOL', 'cat__route_HKTPEK',\n",
       "       'cat__route_HKTPER', 'cat__route_HKTPUS', 'cat__route_HKTPVG',\n",
       "       'cat__route_HKTSYD', 'cat__route_HKTTPE', 'cat__route_HKTWUH',\n",
       "       'cat__route_HKTXIY', 'cat__route_HNDIKA', 'cat__route_HNDJOG',\n",
       "       'cat__route_HNDKBR', 'cat__route_HNDKBV', 'cat__route_HNDKCH',\n",
       "       'cat__route_HNDKNO', 'cat__route_HNDKTM', 'cat__route_HNDLGK',\n",
       "       'cat__route_HNDLOP', 'cat__route_HNDMAA', 'cat__route_HNDMEL',\n",
       "       'cat__route_HNDMLE', 'cat__route_HNDOOL', 'cat__route_HNDPEN',\n",
       "       'cat__route_HNDPER', 'cat__route_HNDPNH', 'cat__route_HNDREP',\n",
       "       'cat__route_HNDRGN', 'cat__route_HNDSBW', 'cat__route_HNDSGN',\n",
       "       'cat__route_HNDSIN', 'cat__route_HNDSUB', 'cat__route_HNDSYD',\n",
       "       'cat__route_HNDTRZ', 'cat__route_HYDMEL', 'cat__route_HYDMRU',\n",
       "       'cat__route_HYDOOL', 'cat__route_HYDPER', 'cat__route_HYDSYD',\n",
       "       'cat__route_HYDWUH', 'cat__route_ICNIKA', 'cat__route_ICNJED',\n",
       "       'cat__route_ICNJHB', 'cat__route_ICNKBR', 'cat__route_ICNKBV',\n",
       "       'cat__route_ICNKCH', 'cat__route_ICNKNO', 'cat__route_ICNKTM',\n",
       "       'cat__route_ICNLGK', 'cat__route_ICNMAA', 'cat__route_ICNMEL',\n",
       "       'cat__route_ICNMLE', 'cat__route_ICNMRU', 'cat__route_ICNMYY',\n",
       "       'cat__route_ICNOOL', 'cat__route_ICNPEN', 'cat__route_ICNPER',\n",
       "       'cat__route_ICNREP', 'cat__route_ICNRGN', 'cat__route_ICNSBW',\n",
       "       'cat__route_ICNSDK', 'cat__route_ICNSGN', 'cat__route_ICNSIN',\n",
       "       'cat__route_ICNSUB', 'cat__route_ICNSYD', 'cat__route_ICNTGG',\n",
       "       'cat__route_ICNTRZ', 'cat__route_ICNVTE', 'cat__route_ICNVTZ',\n",
       "       'cat__route_IKAKCH', 'cat__route_IKAKIX', 'cat__route_IKALOP',\n",
       "       'cat__route_IKAMEL', 'cat__route_IKAMFM', 'cat__route_IKAMNL',\n",
       "       'cat__route_IKAOOL', 'cat__route_IKAPEK', 'cat__route_IKAPEN',\n",
       "       'cat__route_IKAPER', 'cat__route_IKAPUS', 'cat__route_IKAPVG',\n",
       "       'cat__route_IKASGN', 'cat__route_IKASIN', 'cat__route_IKASUB',\n",
       "       'cat__route_IKASYD', 'cat__route_IKASZX', 'cat__route_IKATPE',\n",
       "       'cat__route_JEDJOG', 'cat__route_JEDKNO', 'cat__route_JEDMEL',\n",
       "       'cat__route_JEDMFM', 'cat__route_JEDMNL', 'cat__route_JEDPDG',\n",
       "       'cat__route_JEDPEN', 'cat__route_JEDSUB', 'cat__route_JHBKIX',\n",
       "       'cat__route_JHBKTM', 'cat__route_JHBMEL', 'cat__route_JHBMRU',\n",
       "       'cat__route_JHBOOL', 'cat__route_JHBPEK', 'cat__route_JHBPUS',\n",
       "       'cat__route_JHBPVG', 'cat__route_JHBSYD', 'cat__route_JHBTPE',\n",
       "       'cat__route_JHBWUH', 'cat__route_JHBXIY', 'cat__route_JOGKIX',\n",
       "       'cat__route_JOGKTM', 'cat__route_JOGMEL', 'cat__route_JOGOOL',\n",
       "       'cat__route_JOGPER', 'cat__route_JOGPVG', 'cat__route_JOGSYD',\n",
       "       'cat__route_JOGTPE', 'cat__route_KBRKIX', 'cat__route_KBRKTM',\n",
       "       'cat__route_KBRMEL', 'cat__route_KBROOL', 'cat__route_KBRPEK',\n",
       "       'cat__route_KBRPER', 'cat__route_KBRPUS', 'cat__route_KBRPVG',\n",
       "       'cat__route_KBRSYD', 'cat__route_KBRTPE', 'cat__route_KBRWUH',\n",
       "       'cat__route_KBRXIY', 'cat__route_KBVKIX', 'cat__route_KBVKTM',\n",
       "       'cat__route_KBVMEL', 'cat__route_KBVOOL', 'cat__route_KBVPEK',\n",
       "       'cat__route_KBVPER', 'cat__route_KBVPUS', 'cat__route_KBVPVG',\n",
       "       'cat__route_KBVSYD', 'cat__route_KBVTPE', 'cat__route_KBVWUH',\n",
       "       'cat__route_KBVXIY', 'cat__route_KCHKIX', 'cat__route_KCHKTM',\n",
       "       'cat__route_KCHMEL', 'cat__route_KCHMRU', 'cat__route_KCHOOL',\n",
       "       'cat__route_KCHPEK', 'cat__route_KCHPER', 'cat__route_KCHPUS',\n",
       "       'cat__route_KCHPVG', 'cat__route_KCHSYD', 'cat__route_KCHTPE',\n",
       "       'cat__route_KCHWUH', 'cat__route_KCHXIY', 'cat__route_KHHMEL',\n",
       "       'cat__route_KHHOOL', 'cat__route_KHHPER', 'cat__route_KHHSYD',\n",
       "       'cat__route_KIXKNO', 'cat__route_KIXKTM', 'cat__route_KIXLBU',\n",
       "       'cat__route_KIXLGK', 'cat__route_KIXLOP', 'cat__route_KIXLPQ',\n",
       "       'cat__route_KIXMAA', 'cat__route_KIXMEL', 'cat__route_KIXMLE',\n",
       "       'cat__route_KIXMRU', 'cat__route_KIXMYY', 'cat__route_KIXOOL',\n",
       "       'cat__route_KIXPEN', 'cat__route_KIXPER', 'cat__route_KIXPNH',\n",
       "       'cat__route_KIXREP', 'cat__route_KIXRGN', 'cat__route_KIXSBW',\n",
       "       'cat__route_KIXSGN', 'cat__route_KIXSIN', 'cat__route_KIXSUB',\n",
       "       'cat__route_KIXSYD', 'cat__route_KIXTGG', 'cat__route_KIXTRZ',\n",
       "       'cat__route_KIXTWU', 'cat__route_KLOMEL', 'cat__route_KLOOOL',\n",
       "       'cat__route_KLOSYD', 'cat__route_KNOKTM', 'cat__route_KNOMEL',\n",
       "       'cat__route_KNOOOL', 'cat__route_KNOPEK', 'cat__route_KNOPER',\n",
       "       'cat__route_KNOPUS', 'cat__route_KNOPVG', 'cat__route_KNOSYD',\n",
       "       'cat__route_KNOTPE', 'cat__route_KNOWUH', 'cat__route_KNOXIY',\n",
       "       'cat__route_KOSMEL', 'cat__route_KOSOOL', 'cat__route_KOSPEK',\n",
       "       'cat__route_KOSSYD', 'cat__route_KTMMEL', 'cat__route_KTMMFM',\n",
       "       'cat__route_KTMMYY', 'cat__route_KTMPEN', 'cat__route_KTMPER',\n",
       "       'cat__route_KTMREP', 'cat__route_KTMSGN', 'cat__route_KTMSIN',\n",
       "       'cat__route_KTMSUB', 'cat__route_KTMSYD', 'cat__route_KTMTGG',\n",
       "       'cat__route_KTMTPE', 'cat__route_KTMTWU', 'cat__route_KTMURT',\n",
       "       'cat__route_KWLPER', 'cat__route_LBUPER', 'cat__route_LBUTPE',\n",
       "       'cat__route_LGKMEL', 'cat__route_LGKOOL', 'cat__route_LGKPEK',\n",
       "       'cat__route_LGKPER', 'cat__route_LGKPUS', 'cat__route_LGKPVG',\n",
       "       'cat__route_LGKSYD', 'cat__route_LGKTPE', 'cat__route_LGKWUH',\n",
       "       'cat__route_LGKXIY', 'cat__route_LOPOOL', 'cat__route_LOPPEK',\n",
       "       'cat__route_LOPPER', 'cat__route_LOPPVG', 'cat__route_LOPSYD',\n",
       "       'cat__route_LOPTPE', 'cat__route_LOPXIY', 'cat__route_LPQMEL',\n",
       "       'cat__route_LPQOOL', 'cat__route_LPQPER', 'cat__route_LPQTPE',\n",
       "       'cat__route_MAAMEL', 'cat__route_MAAMRU', 'cat__route_MAAOOL',\n",
       "       'cat__route_MAAPER', 'cat__route_MAAPVG', 'cat__route_MAASYD',\n",
       "       'cat__route_MAATPE', 'cat__route_MAAWUH', 'cat__route_MELMFM',\n",
       "       'cat__route_MELMLE', 'cat__route_MELMNL', 'cat__route_MELMRU',\n",
       "       'cat__route_MELMYY', 'cat__route_MELNRT', 'cat__route_MELPEK',\n",
       "       'cat__route_MELPEN', 'cat__route_MELPNH', 'cat__route_MELPUS',\n",
       "       'cat__route_MELPVG', 'cat__route_MELREP', 'cat__route_MELRGN',\n",
       "       'cat__route_MELSBW', 'cat__route_MELSGN', 'cat__route_MELSIN',\n",
       "       'cat__route_MELSUB', 'cat__route_MELSWA', 'cat__route_MELSZX',\n",
       "       'cat__route_MELTGG', 'cat__route_MELTPE', 'cat__route_MELTRZ',\n",
       "       'cat__route_MELTWU', 'cat__route_MELURT', 'cat__route_MELUTP',\n",
       "       'cat__route_MELVTE', 'cat__route_MELVTZ', 'cat__route_MELWUH',\n",
       "       'cat__route_MELXIY', 'cat__route_MFMOOL', 'cat__route_MFMPER',\n",
       "       'cat__route_MFMSYD', 'cat__route_MLEOOL', 'cat__route_MLEPEK',\n",
       "       'cat__route_MLEPER', 'cat__route_MLEPVG', 'cat__route_MLESYD',\n",
       "       'cat__route_MLETPE', 'cat__route_MNLMRU', 'cat__route_MNLOOL',\n",
       "       'cat__route_MNLPER', 'cat__route_MNLSYD', 'cat__route_MRUOOL',\n",
       "       'cat__route_MRUPEK', 'cat__route_MRUPEN', 'cat__route_MRUPER',\n",
       "       'cat__route_MRUPVG', 'cat__route_MRUSGN', 'cat__route_MRUSIN',\n",
       "       'cat__route_MRUSUB', 'cat__route_MRUSYD', 'cat__route_MRUSZX',\n",
       "       'cat__route_MRUTPE', 'cat__route_MRUXIY', 'cat__route_MYYOOL',\n",
       "       'cat__route_MYYPER', 'cat__route_MYYPUS', 'cat__route_MYYSYD',\n",
       "       'cat__route_MYYXIY', 'cat__route_NRTSYD', 'cat__route_OOLPEK',\n",
       "       'cat__route_OOLPEN', 'cat__route_OOLPNH', 'cat__route_OOLPUS',\n",
       "       'cat__route_OOLPVG', 'cat__route_OOLREP', 'cat__route_OOLRGN',\n",
       "       'cat__route_OOLSBW', 'cat__route_OOLSDK', 'cat__route_OOLSGN',\n",
       "       'cat__route_OOLSIN', 'cat__route_OOLSUB', 'cat__route_OOLSZX',\n",
       "       'cat__route_OOLTGG', 'cat__route_OOLTPE', 'cat__route_OOLTRZ',\n",
       "       'cat__route_OOLTWU', 'cat__route_OOLURT', 'cat__route_OOLUTP',\n",
       "       'cat__route_OOLVTE', 'cat__route_OOLWUH', 'cat__route_OOLXIY',\n",
       "       'cat__route_PEKPEN', 'cat__route_PEKPER', 'cat__route_PEKREP',\n",
       "       'cat__route_PEKRGN', 'cat__route_PEKSBW', 'cat__route_PEKSGN',\n",
       "       'cat__route_PEKSIN', 'cat__route_PEKSUB', 'cat__route_PEKSYD',\n",
       "       'cat__route_PEKTGG', 'cat__route_PEKTRZ', 'cat__route_PEKTWU',\n",
       "       'cat__route_PENPER', 'cat__route_PENPUS', 'cat__route_PENPVG',\n",
       "       'cat__route_PENSYD', 'cat__route_PENTPE', 'cat__route_PENWUH',\n",
       "       'cat__route_PENXIY', 'cat__route_PERPNH', 'cat__route_PERPUS',\n",
       "       'cat__route_PERPVG', 'cat__route_PERREP', 'cat__route_PERRGN',\n",
       "       'cat__route_PERSBW', 'cat__route_PERSDK', 'cat__route_PERSGN',\n",
       "       'cat__route_PERSIN', 'cat__route_PERSUB', 'cat__route_PERSWA',\n",
       "       'cat__route_PERSZX', 'cat__route_PERTGG', 'cat__route_PERTPE',\n",
       "       'cat__route_PERTRZ', 'cat__route_PERTWU', 'cat__route_PERUTP',\n",
       "       'cat__route_PERVTE', 'cat__route_PERVTZ', 'cat__route_PERWUH',\n",
       "       'cat__route_PERXIY', 'cat__route_PNHSYD', 'cat__route_PNHTPE',\n",
       "       'cat__route_PNKTPE', 'cat__route_PUSRGN', 'cat__route_PUSSBW',\n",
       "       'cat__route_PUSSGN', 'cat__route_PUSSIN', 'cat__route_PUSSUB',\n",
       "       'cat__route_PUSSYD', 'cat__route_PUSTRZ', 'cat__route_PVGREP',\n",
       "       'cat__route_PVGRGN', 'cat__route_PVGSGN', 'cat__route_PVGSIN',\n",
       "       'cat__route_PVGSUB', 'cat__route_PVGSYD', 'cat__route_PVGTGG',\n",
       "       'cat__route_PVGTWU', 'cat__route_PVGURT', 'cat__route_REPSYD',\n",
       "       'cat__route_REPTPE', 'cat__route_RGNSYD', 'cat__route_RGNTPE',\n",
       "       'cat__route_SBWSYD', 'cat__route_SBWTPE', 'cat__route_SBWWUH',\n",
       "       'cat__route_SBWXIY', 'cat__route_SDKSYD', 'cat__route_SDKTPE',\n",
       "       'cat__route_SGNSYD', 'cat__route_SGNXIY', 'cat__route_SINSYD',\n",
       "       'cat__route_SINTPE', 'cat__route_SINWUH', 'cat__route_SINXIY',\n",
       "       'cat__route_SRGTPE', 'cat__route_SUBSYD', 'cat__route_SUBTPE',\n",
       "       'cat__route_SUBWUH', 'cat__route_SUBXIY', 'cat__route_SYDSZX',\n",
       "       'cat__route_SYDTPE', 'cat__route_SYDTRZ', 'cat__route_SYDTWU',\n",
       "       'cat__route_SYDVTE', 'cat__route_SYDVTZ', 'cat__route_SYDXIY',\n",
       "       'cat__route_TGGTPE', 'cat__route_TGGXIY', 'cat__route_TPETRZ',\n",
       "       'cat__route_TPETWU', 'cat__route_TPEURT', 'cat__route_TPEVTE',\n",
       "       'cat__route_TRZWUH', 'cat__route_TRZXIY', 'cat__route_TWUWUH',\n",
       "       'cat__route_TWUXIY', 'cat__route_URTXIY',\n",
       "       'cat__booking_origin_(not set)', 'cat__booking_origin_Afghanistan',\n",
       "       'cat__booking_origin_Algeria', 'cat__booking_origin_Argentina',\n",
       "       'cat__booking_origin_Australia', 'cat__booking_origin_Austria',\n",
       "       'cat__booking_origin_Bahrain', 'cat__booking_origin_Bangladesh',\n",
       "       'cat__booking_origin_Belarus', 'cat__booking_origin_Belgium',\n",
       "       'cat__booking_origin_Bhutan', 'cat__booking_origin_Brazil',\n",
       "       'cat__booking_origin_Brunei', 'cat__booking_origin_Bulgaria',\n",
       "       'cat__booking_origin_Cambodia', 'cat__booking_origin_Canada',\n",
       "       'cat__booking_origin_Chile', 'cat__booking_origin_China',\n",
       "       'cat__booking_origin_Colombia', 'cat__booking_origin_Croatia',\n",
       "       'cat__booking_origin_Cyprus', 'cat__booking_origin_Czech Republic',\n",
       "       'cat__booking_origin_Czechia', 'cat__booking_origin_Denmark',\n",
       "       'cat__booking_origin_Egypt', 'cat__booking_origin_Estonia',\n",
       "       'cat__booking_origin_Finland', 'cat__booking_origin_France',\n",
       "       'cat__booking_origin_Germany', 'cat__booking_origin_Ghana',\n",
       "       'cat__booking_origin_Gibraltar', 'cat__booking_origin_Greece',\n",
       "       'cat__booking_origin_Guam', 'cat__booking_origin_Guatemala',\n",
       "       'cat__booking_origin_Hong Kong', 'cat__booking_origin_Hungary',\n",
       "       'cat__booking_origin_India', 'cat__booking_origin_Indonesia',\n",
       "       'cat__booking_origin_Iran', 'cat__booking_origin_Iraq',\n",
       "       'cat__booking_origin_Ireland', 'cat__booking_origin_Israel',\n",
       "       'cat__booking_origin_Italy', 'cat__booking_origin_Japan',\n",
       "       'cat__booking_origin_Jordan', 'cat__booking_origin_Kazakhstan',\n",
       "       'cat__booking_origin_Kenya', 'cat__booking_origin_Kuwait',\n",
       "       'cat__booking_origin_Laos', 'cat__booking_origin_Lebanon',\n",
       "       'cat__booking_origin_Macau', 'cat__booking_origin_Malaysia',\n",
       "       'cat__booking_origin_Maldives', 'cat__booking_origin_Malta',\n",
       "       'cat__booking_origin_Mauritius', 'cat__booking_origin_Mexico',\n",
       "       'cat__booking_origin_Mongolia',\n",
       "       'cat__booking_origin_Myanmar (Burma)', 'cat__booking_origin_Nepal',\n",
       "       'cat__booking_origin_Netherlands',\n",
       "       'cat__booking_origin_New Caledonia',\n",
       "       'cat__booking_origin_New Zealand', 'cat__booking_origin_Nicaragua',\n",
       "       'cat__booking_origin_Norfolk Island', 'cat__booking_origin_Norway',\n",
       "       'cat__booking_origin_Oman', 'cat__booking_origin_Pakistan',\n",
       "       'cat__booking_origin_Panama',\n",
       "       'cat__booking_origin_Papua New Guinea',\n",
       "       'cat__booking_origin_Paraguay', 'cat__booking_origin_Peru',\n",
       "       'cat__booking_origin_Philippines', 'cat__booking_origin_Poland',\n",
       "       'cat__booking_origin_Portugal', 'cat__booking_origin_Qatar',\n",
       "       'cat__booking_origin_Romania', 'cat__booking_origin_Russia',\n",
       "       'cat__booking_origin_Réunion', 'cat__booking_origin_Saudi Arabia',\n",
       "       'cat__booking_origin_Seychelles', 'cat__booking_origin_Singapore',\n",
       "       'cat__booking_origin_Slovakia', 'cat__booking_origin_Slovenia',\n",
       "       'cat__booking_origin_Solomon Islands',\n",
       "       'cat__booking_origin_South Africa',\n",
       "       'cat__booking_origin_South Korea', 'cat__booking_origin_Spain',\n",
       "       'cat__booking_origin_Sri Lanka',\n",
       "       'cat__booking_origin_Svalbard & Jan Mayen',\n",
       "       'cat__booking_origin_Sweden', 'cat__booking_origin_Switzerland',\n",
       "       'cat__booking_origin_Taiwan', 'cat__booking_origin_Tanzania',\n",
       "       'cat__booking_origin_Thailand', 'cat__booking_origin_Timor-Leste',\n",
       "       'cat__booking_origin_Tonga', 'cat__booking_origin_Tunisia',\n",
       "       'cat__booking_origin_Turkey', 'cat__booking_origin_Ukraine',\n",
       "       'cat__booking_origin_United Arab Emirates',\n",
       "       'cat__booking_origin_United Kingdom',\n",
       "       'cat__booking_origin_United States', 'cat__booking_origin_Vanuatu',\n",
       "       'cat__booking_origin_Vietnam'], dtype=object)"
      ]
     },
     "execution_count": 35,
     "metadata": {},
     "output_type": "execute_result"
    }
   ],
   "source": [
    "cols2"
   ]
  },
  {
   "cell_type": "code",
   "execution_count": 36,
   "metadata": {},
   "outputs": [
    {
     "data": {
      "text/html": [
       "<div>\n",
       "<style scoped>\n",
       "    .dataframe tbody tr th:only-of-type {\n",
       "        vertical-align: middle;\n",
       "    }\n",
       "\n",
       "    .dataframe tbody tr th {\n",
       "        vertical-align: top;\n",
       "    }\n",
       "\n",
       "    .dataframe thead th {\n",
       "        text-align: right;\n",
       "    }\n",
       "</style>\n",
       "<table border=\"1\" class=\"dataframe\">\n",
       "  <thead>\n",
       "    <tr style=\"text-align: right;\">\n",
       "      <th></th>\n",
       "      <th>num__num_passengers</th>\n",
       "      <th>num__purchase_lead</th>\n",
       "      <th>num__length_of_stay</th>\n",
       "      <th>num__flight_hour</th>\n",
       "      <th>num__wants_extra_baggage</th>\n",
       "      <th>num__wants_preferred_seat</th>\n",
       "      <th>num__wants_in_flight_meals</th>\n",
       "      <th>num__flight_duration</th>\n",
       "      <th>cat__sales_channel_Internet</th>\n",
       "      <th>cat__sales_channel_Mobile</th>\n",
       "      <th>...</th>\n",
       "      <th>cat__booking_origin_Timor-Leste</th>\n",
       "      <th>cat__booking_origin_Tonga</th>\n",
       "      <th>cat__booking_origin_Tunisia</th>\n",
       "      <th>cat__booking_origin_Turkey</th>\n",
       "      <th>cat__booking_origin_Ukraine</th>\n",
       "      <th>cat__booking_origin_United Arab Emirates</th>\n",
       "      <th>cat__booking_origin_United Kingdom</th>\n",
       "      <th>cat__booking_origin_United States</th>\n",
       "      <th>cat__booking_origin_Vanuatu</th>\n",
       "      <th>cat__booking_origin_Vietnam</th>\n",
       "    </tr>\n",
       "  </thead>\n",
       "  <tbody>\n",
       "    <tr>\n",
       "      <th>0</th>\n",
       "      <td>0.400684</td>\n",
       "      <td>1.957530</td>\n",
       "      <td>-0.119353</td>\n",
       "      <td>-0.381764</td>\n",
       "      <td>0.703747</td>\n",
       "      <td>-0.649919</td>\n",
       "      <td>-0.863497</td>\n",
       "      <td>-1.174175</td>\n",
       "      <td>1.0</td>\n",
       "      <td>0.0</td>\n",
       "      <td>...</td>\n",
       "      <td>0.0</td>\n",
       "      <td>0.0</td>\n",
       "      <td>0.0</td>\n",
       "      <td>0.0</td>\n",
       "      <td>0.0</td>\n",
       "      <td>0.0</td>\n",
       "      <td>0.0</td>\n",
       "      <td>0.0</td>\n",
       "      <td>0.0</td>\n",
       "      <td>0.0</td>\n",
       "    </tr>\n",
       "    <tr>\n",
       "      <th>1</th>\n",
       "      <td>-0.579559</td>\n",
       "      <td>0.299164</td>\n",
       "      <td>-0.089844</td>\n",
       "      <td>-1.120780</td>\n",
       "      <td>-1.420965</td>\n",
       "      <td>-0.649919</td>\n",
       "      <td>-0.863497</td>\n",
       "      <td>-1.174175</td>\n",
       "      <td>1.0</td>\n",
       "      <td>0.0</td>\n",
       "      <td>...</td>\n",
       "      <td>0.0</td>\n",
       "      <td>0.0</td>\n",
       "      <td>0.0</td>\n",
       "      <td>0.0</td>\n",
       "      <td>0.0</td>\n",
       "      <td>0.0</td>\n",
       "      <td>0.0</td>\n",
       "      <td>0.0</td>\n",
       "      <td>0.0</td>\n",
       "      <td>0.0</td>\n",
       "    </tr>\n",
       "    <tr>\n",
       "      <th>2</th>\n",
       "      <td>0.400684</td>\n",
       "      <td>1.747470</td>\n",
       "      <td>-0.030824</td>\n",
       "      <td>1.465775</td>\n",
       "      <td>0.703747</td>\n",
       "      <td>1.538654</td>\n",
       "      <td>-0.863497</td>\n",
       "      <td>-1.174175</td>\n",
       "      <td>1.0</td>\n",
       "      <td>0.0</td>\n",
       "      <td>...</td>\n",
       "      <td>0.0</td>\n",
       "      <td>0.0</td>\n",
       "      <td>0.0</td>\n",
       "      <td>0.0</td>\n",
       "      <td>0.0</td>\n",
       "      <td>0.0</td>\n",
       "      <td>0.0</td>\n",
       "      <td>0.0</td>\n",
       "      <td>0.0</td>\n",
       "      <td>0.0</td>\n",
       "    </tr>\n",
       "    <tr>\n",
       "      <th>3</th>\n",
       "      <td>-0.579559</td>\n",
       "      <td>0.122272</td>\n",
       "      <td>0.234761</td>\n",
       "      <td>-0.936026</td>\n",
       "      <td>-1.420965</td>\n",
       "      <td>-0.649919</td>\n",
       "      <td>1.158082</td>\n",
       "      <td>-1.174175</td>\n",
       "      <td>1.0</td>\n",
       "      <td>0.0</td>\n",
       "      <td>...</td>\n",
       "      <td>0.0</td>\n",
       "      <td>0.0</td>\n",
       "      <td>0.0</td>\n",
       "      <td>0.0</td>\n",
       "      <td>0.0</td>\n",
       "      <td>0.0</td>\n",
       "      <td>0.0</td>\n",
       "      <td>0.0</td>\n",
       "      <td>0.0</td>\n",
       "      <td>0.0</td>\n",
       "    </tr>\n",
       "    <tr>\n",
       "      <th>4</th>\n",
       "      <td>0.400684</td>\n",
       "      <td>-0.187290</td>\n",
       "      <td>-0.030824</td>\n",
       "      <td>1.096267</td>\n",
       "      <td>0.703747</td>\n",
       "      <td>-0.649919</td>\n",
       "      <td>1.158082</td>\n",
       "      <td>-1.174175</td>\n",
       "      <td>1.0</td>\n",
       "      <td>0.0</td>\n",
       "      <td>...</td>\n",
       "      <td>0.0</td>\n",
       "      <td>0.0</td>\n",
       "      <td>0.0</td>\n",
       "      <td>0.0</td>\n",
       "      <td>0.0</td>\n",
       "      <td>0.0</td>\n",
       "      <td>0.0</td>\n",
       "      <td>0.0</td>\n",
       "      <td>0.0</td>\n",
       "      <td>0.0</td>\n",
       "    </tr>\n",
       "  </tbody>\n",
       "</table>\n",
       "<p>5 rows × 923 columns</p>\n",
       "</div>"
      ],
      "text/plain": [
       "   num__num_passengers  num__purchase_lead  num__length_of_stay  \\\n",
       "0             0.400684            1.957530            -0.119353   \n",
       "1            -0.579559            0.299164            -0.089844   \n",
       "2             0.400684            1.747470            -0.030824   \n",
       "3            -0.579559            0.122272             0.234761   \n",
       "4             0.400684           -0.187290            -0.030824   \n",
       "\n",
       "   num__flight_hour  num__wants_extra_baggage  num__wants_preferred_seat  \\\n",
       "0         -0.381764                  0.703747                  -0.649919   \n",
       "1         -1.120780                 -1.420965                  -0.649919   \n",
       "2          1.465775                  0.703747                   1.538654   \n",
       "3         -0.936026                 -1.420965                  -0.649919   \n",
       "4          1.096267                  0.703747                  -0.649919   \n",
       "\n",
       "   num__wants_in_flight_meals  num__flight_duration  \\\n",
       "0                   -0.863497             -1.174175   \n",
       "1                   -0.863497             -1.174175   \n",
       "2                   -0.863497             -1.174175   \n",
       "3                    1.158082             -1.174175   \n",
       "4                    1.158082             -1.174175   \n",
       "\n",
       "   cat__sales_channel_Internet  cat__sales_channel_Mobile  ...  \\\n",
       "0                          1.0                        0.0  ...   \n",
       "1                          1.0                        0.0  ...   \n",
       "2                          1.0                        0.0  ...   \n",
       "3                          1.0                        0.0  ...   \n",
       "4                          1.0                        0.0  ...   \n",
       "\n",
       "   cat__booking_origin_Timor-Leste  cat__booking_origin_Tonga  \\\n",
       "0                              0.0                        0.0   \n",
       "1                              0.0                        0.0   \n",
       "2                              0.0                        0.0   \n",
       "3                              0.0                        0.0   \n",
       "4                              0.0                        0.0   \n",
       "\n",
       "   cat__booking_origin_Tunisia  cat__booking_origin_Turkey  \\\n",
       "0                          0.0                         0.0   \n",
       "1                          0.0                         0.0   \n",
       "2                          0.0                         0.0   \n",
       "3                          0.0                         0.0   \n",
       "4                          0.0                         0.0   \n",
       "\n",
       "   cat__booking_origin_Ukraine  cat__booking_origin_United Arab Emirates  \\\n",
       "0                          0.0                                       0.0   \n",
       "1                          0.0                                       0.0   \n",
       "2                          0.0                                       0.0   \n",
       "3                          0.0                                       0.0   \n",
       "4                          0.0                                       0.0   \n",
       "\n",
       "   cat__booking_origin_United Kingdom  cat__booking_origin_United States  \\\n",
       "0                                 0.0                                0.0   \n",
       "1                                 0.0                                0.0   \n",
       "2                                 0.0                                0.0   \n",
       "3                                 0.0                                0.0   \n",
       "4                                 0.0                                0.0   \n",
       "\n",
       "   cat__booking_origin_Vanuatu  cat__booking_origin_Vietnam  \n",
       "0                          0.0                          0.0  \n",
       "1                          0.0                          0.0  \n",
       "2                          0.0                          0.0  \n",
       "3                          0.0                          0.0  \n",
       "4                          0.0                          0.0  \n",
       "\n",
       "[5 rows x 923 columns]"
      ]
     },
     "execution_count": 36,
     "metadata": {},
     "output_type": "execute_result"
    }
   ],
   "source": [
    "xsp= pd.DataFrame(X_sel_pre,columns=cols2)\n",
    "xsp.head()"
   ]
  },
  {
   "cell_type": "markdown",
   "metadata": {},
   "source": [
    "### TRAIN TEST SPLIT"
   ]
  },
  {
   "cell_type": "code",
   "execution_count": 37,
   "metadata": {},
   "outputs": [],
   "source": [
    "from sklearn.model_selection import train_test_split"
   ]
  },
  {
   "cell_type": "code",
   "execution_count": 38,
   "metadata": {},
   "outputs": [],
   "source": [
    "xtrain,xtest,ytrain,ytest=train_test_split(xsp,Y,test_size=0.2,random_state=42)"
   ]
  },
  {
   "cell_type": "code",
   "execution_count": 39,
   "metadata": {},
   "outputs": [
    {
     "data": {
      "text/plain": [
       "(40000, 923)"
      ]
     },
     "execution_count": 39,
     "metadata": {},
     "output_type": "execute_result"
    }
   ],
   "source": [
    "xtrain.shape"
   ]
  },
  {
   "cell_type": "code",
   "execution_count": 40,
   "metadata": {},
   "outputs": [
    {
     "data": {
      "text/plain": [
       "(10000, 923)"
      ]
     },
     "execution_count": 40,
     "metadata": {},
     "output_type": "execute_result"
    }
   ],
   "source": [
    "xtest.shape"
   ]
  },
  {
   "cell_type": "markdown",
   "metadata": {},
   "source": [
    "### BUILD THE MODEL"
   ]
  },
  {
   "cell_type": "code",
   "execution_count": 41,
   "metadata": {},
   "outputs": [],
   "source": [
    "from sklearn.ensemble import RandomForestClassifier"
   ]
  },
  {
   "cell_type": "code",
   "execution_count": 42,
   "metadata": {},
   "outputs": [],
   "source": [
    "re=RandomForestClassifier(random_state=21)"
   ]
  },
  {
   "cell_type": "code",
   "execution_count": 43,
   "metadata": {},
   "outputs": [
    {
     "data": {
      "text/html": [
       "<style>#sk-container-id-1 {color: black;}#sk-container-id-1 pre{padding: 0;}#sk-container-id-1 div.sk-toggleable {background-color: white;}#sk-container-id-1 label.sk-toggleable__label {cursor: pointer;display: block;width: 100%;margin-bottom: 0;padding: 0.3em;box-sizing: border-box;text-align: center;}#sk-container-id-1 label.sk-toggleable__label-arrow:before {content: \"▸\";float: left;margin-right: 0.25em;color: #696969;}#sk-container-id-1 label.sk-toggleable__label-arrow:hover:before {color: black;}#sk-container-id-1 div.sk-estimator:hover label.sk-toggleable__label-arrow:before {color: black;}#sk-container-id-1 div.sk-toggleable__content {max-height: 0;max-width: 0;overflow: hidden;text-align: left;background-color: #f0f8ff;}#sk-container-id-1 div.sk-toggleable__content pre {margin: 0.2em;color: black;border-radius: 0.25em;background-color: #f0f8ff;}#sk-container-id-1 input.sk-toggleable__control:checked~div.sk-toggleable__content {max-height: 200px;max-width: 100%;overflow: auto;}#sk-container-id-1 input.sk-toggleable__control:checked~label.sk-toggleable__label-arrow:before {content: \"▾\";}#sk-container-id-1 div.sk-estimator input.sk-toggleable__control:checked~label.sk-toggleable__label {background-color: #d4ebff;}#sk-container-id-1 div.sk-label input.sk-toggleable__control:checked~label.sk-toggleable__label {background-color: #d4ebff;}#sk-container-id-1 input.sk-hidden--visually {border: 0;clip: rect(1px 1px 1px 1px);clip: rect(1px, 1px, 1px, 1px);height: 1px;margin: -1px;overflow: hidden;padding: 0;position: absolute;width: 1px;}#sk-container-id-1 div.sk-estimator {font-family: monospace;background-color: #f0f8ff;border: 1px dotted black;border-radius: 0.25em;box-sizing: border-box;margin-bottom: 0.5em;}#sk-container-id-1 div.sk-estimator:hover {background-color: #d4ebff;}#sk-container-id-1 div.sk-parallel-item::after {content: \"\";width: 100%;border-bottom: 1px solid gray;flex-grow: 1;}#sk-container-id-1 div.sk-label:hover label.sk-toggleable__label {background-color: #d4ebff;}#sk-container-id-1 div.sk-serial::before {content: \"\";position: absolute;border-left: 1px solid gray;box-sizing: border-box;top: 0;bottom: 0;left: 50%;z-index: 0;}#sk-container-id-1 div.sk-serial {display: flex;flex-direction: column;align-items: center;background-color: white;padding-right: 0.2em;padding-left: 0.2em;position: relative;}#sk-container-id-1 div.sk-item {position: relative;z-index: 1;}#sk-container-id-1 div.sk-parallel {display: flex;align-items: stretch;justify-content: center;background-color: white;position: relative;}#sk-container-id-1 div.sk-item::before, #sk-container-id-1 div.sk-parallel-item::before {content: \"\";position: absolute;border-left: 1px solid gray;box-sizing: border-box;top: 0;bottom: 0;left: 50%;z-index: -1;}#sk-container-id-1 div.sk-parallel-item {display: flex;flex-direction: column;z-index: 1;position: relative;background-color: white;}#sk-container-id-1 div.sk-parallel-item:first-child::after {align-self: flex-end;width: 50%;}#sk-container-id-1 div.sk-parallel-item:last-child::after {align-self: flex-start;width: 50%;}#sk-container-id-1 div.sk-parallel-item:only-child::after {width: 0;}#sk-container-id-1 div.sk-dashed-wrapped {border: 1px dashed gray;margin: 0 0.4em 0.5em 0.4em;box-sizing: border-box;padding-bottom: 0.4em;background-color: white;}#sk-container-id-1 div.sk-label label {font-family: monospace;font-weight: bold;display: inline-block;line-height: 1.2em;}#sk-container-id-1 div.sk-label-container {text-align: center;}#sk-container-id-1 div.sk-container {/* jupyter's `normalize.less` sets `[hidden] { display: none; }` but bootstrap.min.css set `[hidden] { display: none !important; }` so we also need the `!important` here to be able to override the default hidden behavior on the sphinx rendered scikit-learn.org. See: https://github.com/scikit-learn/scikit-learn/issues/21755 */display: inline-block !important;position: relative;}#sk-container-id-1 div.sk-text-repr-fallback {display: none;}</style><div id=\"sk-container-id-1\" class=\"sk-top-container\"><div class=\"sk-text-repr-fallback\"><pre>RandomForestClassifier(random_state=21)</pre><b>In a Jupyter environment, please rerun this cell to show the HTML representation or trust the notebook. <br />On GitHub, the HTML representation is unable to render, please try loading this page with nbviewer.org.</b></div><div class=\"sk-container\" hidden><div class=\"sk-item\"><div class=\"sk-estimator sk-toggleable\"><input class=\"sk-toggleable__control sk-hidden--visually\" id=\"sk-estimator-id-1\" type=\"checkbox\" checked><label for=\"sk-estimator-id-1\" class=\"sk-toggleable__label sk-toggleable__label-arrow\">RandomForestClassifier</label><div class=\"sk-toggleable__content\"><pre>RandomForestClassifier(random_state=21)</pre></div></div></div></div></div>"
      ],
      "text/plain": [
       "RandomForestClassifier(random_state=21)"
      ]
     },
     "execution_count": 43,
     "metadata": {},
     "output_type": "execute_result"
    }
   ],
   "source": [
    "re.fit(xtrain,ytrain)"
   ]
  },
  {
   "cell_type": "markdown",
   "metadata": {},
   "source": [
    "### default model score"
   ]
  },
  {
   "cell_type": "code",
   "execution_count": 44,
   "metadata": {},
   "outputs": [
    {
     "data": {
      "text/plain": [
       "0.99985"
      ]
     },
     "execution_count": 44,
     "metadata": {},
     "output_type": "execute_result"
    }
   ],
   "source": [
    "re.score(xtrain,ytrain)"
   ]
  },
  {
   "cell_type": "code",
   "execution_count": 45,
   "metadata": {},
   "outputs": [
    {
     "data": {
      "text/plain": [
       "0.8539"
      ]
     },
     "execution_count": 45,
     "metadata": {},
     "output_type": "execute_result"
    }
   ],
   "source": [
    "re.score(xtest,ytest)"
   ]
  },
  {
   "cell_type": "markdown",
   "metadata": {},
   "source": [
    "### HYPER PARAMETER TUNING"
   ]
  },
  {
   "cell_type": "code",
   "execution_count": 56,
   "metadata": {},
   "outputs": [],
   "source": [
    "params= {\n",
    "    'n_estimators': [5,10,50,100],\n",
    "    'max_depth':[3,4,5,6,7,8,9],\n",
    "    'criterion':['gini','entropy'],\n",
    "    'min_samples_split':[4,5,6,7,8,9]\n",
    "}"
   ]
  },
  {
   "cell_type": "code",
   "execution_count": 57,
   "metadata": {},
   "outputs": [],
   "source": [
    "from sklearn.model_selection import GridSearchCV,RandomizedSearchCV"
   ]
  },
  {
   "cell_type": "code",
   "execution_count": 58,
   "metadata": {},
   "outputs": [],
   "source": [
    "rfc=RandomForestClassifier(random_state=42)"
   ]
  },
  {
   "cell_type": "code",
   "execution_count": 59,
   "metadata": {},
   "outputs": [],
   "source": [
    "gscv=RandomizedSearchCV(rfc,param_distributions=params,cv=5,scoring='f1_macro')"
   ]
  },
  {
   "cell_type": "code",
   "execution_count": 60,
   "metadata": {},
   "outputs": [
    {
     "data": {
      "text/html": [
       "<style>#sk-container-id-3 {color: black;}#sk-container-id-3 pre{padding: 0;}#sk-container-id-3 div.sk-toggleable {background-color: white;}#sk-container-id-3 label.sk-toggleable__label {cursor: pointer;display: block;width: 100%;margin-bottom: 0;padding: 0.3em;box-sizing: border-box;text-align: center;}#sk-container-id-3 label.sk-toggleable__label-arrow:before {content: \"▸\";float: left;margin-right: 0.25em;color: #696969;}#sk-container-id-3 label.sk-toggleable__label-arrow:hover:before {color: black;}#sk-container-id-3 div.sk-estimator:hover label.sk-toggleable__label-arrow:before {color: black;}#sk-container-id-3 div.sk-toggleable__content {max-height: 0;max-width: 0;overflow: hidden;text-align: left;background-color: #f0f8ff;}#sk-container-id-3 div.sk-toggleable__content pre {margin: 0.2em;color: black;border-radius: 0.25em;background-color: #f0f8ff;}#sk-container-id-3 input.sk-toggleable__control:checked~div.sk-toggleable__content {max-height: 200px;max-width: 100%;overflow: auto;}#sk-container-id-3 input.sk-toggleable__control:checked~label.sk-toggleable__label-arrow:before {content: \"▾\";}#sk-container-id-3 div.sk-estimator input.sk-toggleable__control:checked~label.sk-toggleable__label {background-color: #d4ebff;}#sk-container-id-3 div.sk-label input.sk-toggleable__control:checked~label.sk-toggleable__label {background-color: #d4ebff;}#sk-container-id-3 input.sk-hidden--visually {border: 0;clip: rect(1px 1px 1px 1px);clip: rect(1px, 1px, 1px, 1px);height: 1px;margin: -1px;overflow: hidden;padding: 0;position: absolute;width: 1px;}#sk-container-id-3 div.sk-estimator {font-family: monospace;background-color: #f0f8ff;border: 1px dotted black;border-radius: 0.25em;box-sizing: border-box;margin-bottom: 0.5em;}#sk-container-id-3 div.sk-estimator:hover {background-color: #d4ebff;}#sk-container-id-3 div.sk-parallel-item::after {content: \"\";width: 100%;border-bottom: 1px solid gray;flex-grow: 1;}#sk-container-id-3 div.sk-label:hover label.sk-toggleable__label {background-color: #d4ebff;}#sk-container-id-3 div.sk-serial::before {content: \"\";position: absolute;border-left: 1px solid gray;box-sizing: border-box;top: 0;bottom: 0;left: 50%;z-index: 0;}#sk-container-id-3 div.sk-serial {display: flex;flex-direction: column;align-items: center;background-color: white;padding-right: 0.2em;padding-left: 0.2em;position: relative;}#sk-container-id-3 div.sk-item {position: relative;z-index: 1;}#sk-container-id-3 div.sk-parallel {display: flex;align-items: stretch;justify-content: center;background-color: white;position: relative;}#sk-container-id-3 div.sk-item::before, #sk-container-id-3 div.sk-parallel-item::before {content: \"\";position: absolute;border-left: 1px solid gray;box-sizing: border-box;top: 0;bottom: 0;left: 50%;z-index: -1;}#sk-container-id-3 div.sk-parallel-item {display: flex;flex-direction: column;z-index: 1;position: relative;background-color: white;}#sk-container-id-3 div.sk-parallel-item:first-child::after {align-self: flex-end;width: 50%;}#sk-container-id-3 div.sk-parallel-item:last-child::after {align-self: flex-start;width: 50%;}#sk-container-id-3 div.sk-parallel-item:only-child::after {width: 0;}#sk-container-id-3 div.sk-dashed-wrapped {border: 1px dashed gray;margin: 0 0.4em 0.5em 0.4em;box-sizing: border-box;padding-bottom: 0.4em;background-color: white;}#sk-container-id-3 div.sk-label label {font-family: monospace;font-weight: bold;display: inline-block;line-height: 1.2em;}#sk-container-id-3 div.sk-label-container {text-align: center;}#sk-container-id-3 div.sk-container {/* jupyter's `normalize.less` sets `[hidden] { display: none; }` but bootstrap.min.css set `[hidden] { display: none !important; }` so we also need the `!important` here to be able to override the default hidden behavior on the sphinx rendered scikit-learn.org. See: https://github.com/scikit-learn/scikit-learn/issues/21755 */display: inline-block !important;position: relative;}#sk-container-id-3 div.sk-text-repr-fallback {display: none;}</style><div id=\"sk-container-id-3\" class=\"sk-top-container\"><div class=\"sk-text-repr-fallback\"><pre>RandomizedSearchCV(cv=5, estimator=RandomForestClassifier(random_state=42),\n",
       "                   param_distributions={&#x27;criterion&#x27;: [&#x27;gini&#x27;, &#x27;entropy&#x27;],\n",
       "                                        &#x27;max_depth&#x27;: [3, 4, 5, 6, 7, 8, 9],\n",
       "                                        &#x27;min_samples_split&#x27;: [4, 5, 6, 7, 8, 9],\n",
       "                                        &#x27;n_estimators&#x27;: [5, 10, 50, 100]},\n",
       "                   scoring=&#x27;f1_macro&#x27;)</pre><b>In a Jupyter environment, please rerun this cell to show the HTML representation or trust the notebook. <br />On GitHub, the HTML representation is unable to render, please try loading this page with nbviewer.org.</b></div><div class=\"sk-container\" hidden><div class=\"sk-item sk-dashed-wrapped\"><div class=\"sk-label-container\"><div class=\"sk-label sk-toggleable\"><input class=\"sk-toggleable__control sk-hidden--visually\" id=\"sk-estimator-id-5\" type=\"checkbox\" ><label for=\"sk-estimator-id-5\" class=\"sk-toggleable__label sk-toggleable__label-arrow\">RandomizedSearchCV</label><div class=\"sk-toggleable__content\"><pre>RandomizedSearchCV(cv=5, estimator=RandomForestClassifier(random_state=42),\n",
       "                   param_distributions={&#x27;criterion&#x27;: [&#x27;gini&#x27;, &#x27;entropy&#x27;],\n",
       "                                        &#x27;max_depth&#x27;: [3, 4, 5, 6, 7, 8, 9],\n",
       "                                        &#x27;min_samples_split&#x27;: [4, 5, 6, 7, 8, 9],\n",
       "                                        &#x27;n_estimators&#x27;: [5, 10, 50, 100]},\n",
       "                   scoring=&#x27;f1_macro&#x27;)</pre></div></div></div><div class=\"sk-parallel\"><div class=\"sk-parallel-item\"><div class=\"sk-item\"><div class=\"sk-label-container\"><div class=\"sk-label sk-toggleable\"><input class=\"sk-toggleable__control sk-hidden--visually\" id=\"sk-estimator-id-6\" type=\"checkbox\" ><label for=\"sk-estimator-id-6\" class=\"sk-toggleable__label sk-toggleable__label-arrow\">estimator: RandomForestClassifier</label><div class=\"sk-toggleable__content\"><pre>RandomForestClassifier(random_state=42)</pre></div></div></div><div class=\"sk-serial\"><div class=\"sk-item\"><div class=\"sk-estimator sk-toggleable\"><input class=\"sk-toggleable__control sk-hidden--visually\" id=\"sk-estimator-id-7\" type=\"checkbox\" ><label for=\"sk-estimator-id-7\" class=\"sk-toggleable__label sk-toggleable__label-arrow\">RandomForestClassifier</label><div class=\"sk-toggleable__content\"><pre>RandomForestClassifier(random_state=42)</pre></div></div></div></div></div></div></div></div></div></div>"
      ],
      "text/plain": [
       "RandomizedSearchCV(cv=5, estimator=RandomForestClassifier(random_state=42),\n",
       "                   param_distributions={'criterion': ['gini', 'entropy'],\n",
       "                                        'max_depth': [3, 4, 5, 6, 7, 8, 9],\n",
       "                                        'min_samples_split': [4, 5, 6, 7, 8, 9],\n",
       "                                        'n_estimators': [5, 10, 50, 100]},\n",
       "                   scoring='f1_macro')"
      ]
     },
     "execution_count": 60,
     "metadata": {},
     "output_type": "execute_result"
    }
   ],
   "source": [
    "gscv.fit(xtrain,ytrain)"
   ]
  },
  {
   "cell_type": "code",
   "execution_count": 66,
   "metadata": {},
   "outputs": [
    {
     "data": {
      "text/plain": [
       "{'n_estimators': 5,\n",
       " 'min_samples_split': 8,\n",
       " 'max_depth': 8,\n",
       " 'criterion': 'entropy'}"
      ]
     },
     "execution_count": 66,
     "metadata": {},
     "output_type": "execute_result"
    }
   ],
   "source": [
    "gscv.best_params_"
   ]
  },
  {
   "cell_type": "code",
   "execution_count": 67,
   "metadata": {},
   "outputs": [
    {
     "data": {
      "text/plain": [
       "0.45963936118892657"
      ]
     },
     "execution_count": 67,
     "metadata": {},
     "output_type": "execute_result"
    }
   ],
   "source": [
    "gscv.best_score_"
   ]
  },
  {
   "cell_type": "code",
   "execution_count": 68,
   "metadata": {},
   "outputs": [],
   "source": [
    "best_rfc= gscv.best_estimator_"
   ]
  },
  {
   "cell_type": "markdown",
   "metadata": {},
   "source": [
    "### EVALUATING THE MODEL"
   ]
  },
  {
   "cell_type": "code",
   "execution_count": 69,
   "metadata": {},
   "outputs": [
    {
     "data": {
      "text/plain": [
       "0.85005"
      ]
     },
     "execution_count": 69,
     "metadata": {},
     "output_type": "execute_result"
    }
   ],
   "source": [
    "best_rfc.score(xtrain,ytrain)"
   ]
  },
  {
   "cell_type": "code",
   "execution_count": 70,
   "metadata": {},
   "outputs": [
    {
     "data": {
      "text/plain": [
       "0.852"
      ]
     },
     "execution_count": 70,
     "metadata": {},
     "output_type": "execute_result"
    }
   ],
   "source": [
    "best_rfc.score(xtest,ytest)"
   ]
  },
  {
   "cell_type": "markdown",
   "metadata": {},
   "source": [
    "### PREDICTING THE VALUES"
   ]
  },
  {
   "cell_type": "code",
   "execution_count": 71,
   "metadata": {},
   "outputs": [],
   "source": [
    "ypred_tr=best_rfc.predict(xtrain)\n",
    "ypred_ts=best_rfc.predict(xtest)"
   ]
  },
  {
   "cell_type": "code",
   "execution_count": 72,
   "metadata": {},
   "outputs": [
    {
     "data": {
      "text/plain": [
       "array([0, 0, 0, 0, 0], dtype=int64)"
      ]
     },
     "execution_count": 72,
     "metadata": {},
     "output_type": "execute_result"
    }
   ],
   "source": [
    "ypred_tr[0:5]"
   ]
  },
  {
   "cell_type": "code",
   "execution_count": 73,
   "metadata": {},
   "outputs": [
    {
     "data": {
      "text/html": [
       "<div>\n",
       "<style scoped>\n",
       "    .dataframe tbody tr th:only-of-type {\n",
       "        vertical-align: middle;\n",
       "    }\n",
       "\n",
       "    .dataframe tbody tr th {\n",
       "        vertical-align: top;\n",
       "    }\n",
       "\n",
       "    .dataframe thead th {\n",
       "        text-align: right;\n",
       "    }\n",
       "</style>\n",
       "<table border=\"1\" class=\"dataframe\">\n",
       "  <thead>\n",
       "    <tr style=\"text-align: right;\">\n",
       "      <th></th>\n",
       "      <th>booking_complete</th>\n",
       "    </tr>\n",
       "  </thead>\n",
       "  <tbody>\n",
       "    <tr>\n",
       "      <th>39087</th>\n",
       "      <td>0</td>\n",
       "    </tr>\n",
       "    <tr>\n",
       "      <th>30893</th>\n",
       "      <td>1</td>\n",
       "    </tr>\n",
       "    <tr>\n",
       "      <th>45278</th>\n",
       "      <td>0</td>\n",
       "    </tr>\n",
       "    <tr>\n",
       "      <th>16398</th>\n",
       "      <td>0</td>\n",
       "    </tr>\n",
       "    <tr>\n",
       "      <th>13653</th>\n",
       "      <td>0</td>\n",
       "    </tr>\n",
       "  </tbody>\n",
       "</table>\n",
       "</div>"
      ],
      "text/plain": [
       "       booking_complete\n",
       "39087                 0\n",
       "30893                 1\n",
       "45278                 0\n",
       "16398                 0\n",
       "13653                 0"
      ]
     },
     "execution_count": 73,
     "metadata": {},
     "output_type": "execute_result"
    }
   ],
   "source": [
    "ytrain.head()"
   ]
  },
  {
   "cell_type": "code",
   "execution_count": 74,
   "metadata": {},
   "outputs": [
    {
     "data": {
      "text/plain": [
       "array([0, 0, 0, 0, 0], dtype=int64)"
      ]
     },
     "execution_count": 74,
     "metadata": {},
     "output_type": "execute_result"
    }
   ],
   "source": [
    "ypred_ts[0:5]"
   ]
  },
  {
   "cell_type": "code",
   "execution_count": 75,
   "metadata": {},
   "outputs": [
    {
     "data": {
      "text/html": [
       "<div>\n",
       "<style scoped>\n",
       "    .dataframe tbody tr th:only-of-type {\n",
       "        vertical-align: middle;\n",
       "    }\n",
       "\n",
       "    .dataframe tbody tr th {\n",
       "        vertical-align: top;\n",
       "    }\n",
       "\n",
       "    .dataframe thead th {\n",
       "        text-align: right;\n",
       "    }\n",
       "</style>\n",
       "<table border=\"1\" class=\"dataframe\">\n",
       "  <thead>\n",
       "    <tr style=\"text-align: right;\">\n",
       "      <th></th>\n",
       "      <th>booking_complete</th>\n",
       "    </tr>\n",
       "  </thead>\n",
       "  <tbody>\n",
       "    <tr>\n",
       "      <th>33553</th>\n",
       "      <td>0</td>\n",
       "    </tr>\n",
       "    <tr>\n",
       "      <th>9427</th>\n",
       "      <td>0</td>\n",
       "    </tr>\n",
       "    <tr>\n",
       "      <th>199</th>\n",
       "      <td>0</td>\n",
       "    </tr>\n",
       "    <tr>\n",
       "      <th>12447</th>\n",
       "      <td>0</td>\n",
       "    </tr>\n",
       "    <tr>\n",
       "      <th>39489</th>\n",
       "      <td>0</td>\n",
       "    </tr>\n",
       "  </tbody>\n",
       "</table>\n",
       "</div>"
      ],
      "text/plain": [
       "       booking_complete\n",
       "33553                 0\n",
       "9427                  0\n",
       "199                   0\n",
       "12447                 0\n",
       "39489                 0"
      ]
     },
     "execution_count": 75,
     "metadata": {},
     "output_type": "execute_result"
    }
   ],
   "source": [
    "ytest.head()"
   ]
  },
  {
   "cell_type": "markdown",
   "metadata": {},
   "source": [
    "### CONFUSION MATRIX"
   ]
  },
  {
   "cell_type": "code",
   "execution_count": 76,
   "metadata": {},
   "outputs": [],
   "source": [
    "from sklearn.metrics import confusion_matrix, ConfusionMatrixDisplay"
   ]
  },
  {
   "cell_type": "code",
   "execution_count": 81,
   "metadata": {},
   "outputs": [
    {
     "data": {
      "text/plain": [
       "<sklearn.metrics._plot.confusion_matrix.ConfusionMatrixDisplay at 0x258cfc7d290>"
      ]
     },
     "execution_count": 81,
     "metadata": {},
     "output_type": "execute_result"
    },
    {
     "data": {
      "image/png": "[encoded data removed]",
      "text/plain": [
       "<Figure size 640x480 with 2 Axes>"
      ]
     },
     "metadata": {},
     "output_type": "display_data"
    }
   ],
   "source": [
    "cf=confusion_matrix(ytest,ypred_ts)\n",
    "cfd=ConfusionMatrixDisplay(cf,display_labels=best_rfc.classes_)\n",
    "cfd.plot()"
   ]
  },
  {
   "cell_type": "markdown",
   "metadata": {},
   "source": [
    "### CLASSIFICATION REPORT"
   ]
  },
  {
   "cell_type": "code",
   "execution_count": 78,
   "metadata": {},
   "outputs": [],
   "source": [
    "from sklearn.metrics import classification_report"
   ]
  },
  {
   "cell_type": "code",
   "execution_count": 79,
   "metadata": {},
   "outputs": [
    {
     "name": "stdout",
     "output_type": "stream",
     "text": [
      "              precision    recall  f1-score   support\n",
      "\n",
      "           0       0.85      1.00      0.92      8520\n",
      "           1       0.00      0.00      0.00      1480\n",
      "\n",
      "    accuracy                           0.85     10000\n",
      "   macro avg       0.43      0.50      0.46     10000\n",
      "weighted avg       0.73      0.85      0.78     10000\n",
      "\n"
     ]
    }
   ],
   "source": [
    "print(classification_report(ytest,ypred_ts))"
   ]
  }
 ],
 "metadata": {
  "kernelspec": {
   "display_name": "venv",
   "language": "python",
   "name": "python3"
  },
  "language_info": {
   "codemirror_mode": {
    "name": "ipython",
    "version": 3
   },
   "file_extension": ".py",
   "mimetype": "text/x-python",
   "name": "python",
   "nbconvert_exporter": "python",
   "pygments_lexer": "ipython3",
   "version": "3.11.7"
  }
 },
 "nbformat": 4,
 "nbformat_minor": 2
}
